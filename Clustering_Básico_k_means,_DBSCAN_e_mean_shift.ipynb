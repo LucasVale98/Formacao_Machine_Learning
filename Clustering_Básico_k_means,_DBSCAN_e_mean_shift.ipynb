{
  "nbformat": 4,
  "nbformat_minor": 0,
  "metadata": {
    "colab": {
      "name": "Clustering_Básico_k_means,_DBSCAN_e_mean_shift.ipynb",
      "provenance": [],
      "collapsed_sections": [],
      "include_colab_link": true
    },
    "kernelspec": {
      "name": "python3",
      "display_name": "Python 3"
    }
  },
  "cells": [
    {
      "cell_type": "markdown",
      "metadata": {
        "id": "view-in-github",
        "colab_type": "text"
      },
      "source": [
        "<a href=\"https://colab.research.google.com/github/LucasVale98/Formacao_Machine_Learning/blob/main/Clustering_B%C3%A1sico_k_means%2C_DBSCAN_e_mean_shift.ipynb\" target=\"_parent\"><img src=\"https://colab.research.google.com/assets/colab-badge.svg\" alt=\"Open In Colab\"/></a>"
      ]
    },
    {
      "cell_type": "markdown",
      "metadata": {
        "id": "hw3QFtY1FM90"
      },
      "source": [
        "# **01. Análise exploratória**"
      ]
    },
    {
      "cell_type": "markdown",
      "metadata": {
        "id": "5DLq7ySNFpcJ"
      },
      "source": [
        "**Importando e analisando os dados**"
      ]
    },
    {
      "cell_type": "markdown",
      "metadata": {
        "id": "TlTwQ4QULN6f"
      },
      "source": [
        "https://pypi.org/project/plotly/"
      ]
    },
    {
      "cell_type": "code",
      "metadata": {
        "colab": {
          "base_uri": "https://localhost:8080/"
        },
        "id": "Jml3r0kdKMw0",
        "outputId": "b3fa425e-5d00-42ce-b970-666b2fb0ffff"
      },
      "source": [
        "pip install plotly==4.1.0"
      ],
      "execution_count": null,
      "outputs": [
        {
          "output_type": "stream",
          "text": [
            "Collecting plotly==4.1.0\n",
            "\u001b[?25l  Downloading https://files.pythonhosted.org/packages/63/2b/4ca10995bfbdefd65c4238f9a2d3fde33705d18dd50914dd13302ec1daf1/plotly-4.1.0-py2.py3-none-any.whl (7.1MB)\n",
            "\u001b[K     |████████████████████████████████| 7.1MB 3.7MB/s \n",
            "\u001b[?25hRequirement already satisfied: six in /usr/local/lib/python3.7/dist-packages (from plotly==4.1.0) (1.15.0)\n",
            "Requirement already satisfied: retrying>=1.3.3 in /usr/local/lib/python3.7/dist-packages (from plotly==4.1.0) (1.3.3)\n",
            "\u001b[31mERROR: cufflinks 0.17.3 has requirement plotly>=4.1.1, but you'll have plotly 4.1.0 which is incompatible.\u001b[0m\n",
            "Installing collected packages: plotly\n",
            "  Found existing installation: plotly 4.4.1\n",
            "    Uninstalling plotly-4.4.1:\n",
            "      Successfully uninstalled plotly-4.4.1\n",
            "Successfully installed plotly-4.1.0\n"
          ],
          "name": "stdout"
        }
      ]
    },
    {
      "cell_type": "code",
      "metadata": {
        "id": "0P3TrrVXKr_A"
      },
      "source": [
        "import  plotly.graph_objects  as  go \n",
        "import pandas as pd\n",
        "import numpy as np"
      ],
      "execution_count": null,
      "outputs": []
    },
    {
      "cell_type": "code",
      "metadata": {
        "colab": {
          "base_uri": "https://localhost:8080/",
          "height": 239
        },
        "id": "vu4lezYzLY93",
        "outputId": "a525f98b-77a4-4a09-9ccb-f052f90a0ac5"
      },
      "source": [
        "dados = pd.read_csv(\"https://raw.githubusercontent.com/alura-cursos/Clustering/Aula4-Introdu%C3%A7%C3%A3o-ao-Mean-shift/Wine.csv\")\n",
        "print(f\"O dado possui {dados.shape[0]} amostras e {dados.shape[1]} atributos\")\n",
        "dados.head()"
      ],
      "execution_count": null,
      "outputs": [
        {
          "output_type": "stream",
          "text": [
            "O dado possui 178 amostras e 14 atributos\n"
          ],
          "name": "stdout"
        },
        {
          "output_type": "execute_result",
          "data": {
            "text/html": [
              "<div>\n",
              "<style scoped>\n",
              "    .dataframe tbody tr th:only-of-type {\n",
              "        vertical-align: middle;\n",
              "    }\n",
              "\n",
              "    .dataframe tbody tr th {\n",
              "        vertical-align: top;\n",
              "    }\n",
              "\n",
              "    .dataframe thead th {\n",
              "        text-align: right;\n",
              "    }\n",
              "</style>\n",
              "<table border=\"1\" class=\"dataframe\">\n",
              "  <thead>\n",
              "    <tr style=\"text-align: right;\">\n",
              "      <th></th>\n",
              "      <th>Alcohol</th>\n",
              "      <th>Malic_Acid</th>\n",
              "      <th>Ash</th>\n",
              "      <th>Ash_Alcanity</th>\n",
              "      <th>Magnesium</th>\n",
              "      <th>Total_Phenols</th>\n",
              "      <th>Flavanoids</th>\n",
              "      <th>Nonflavanoid_Phenols</th>\n",
              "      <th>Proanthocyanins</th>\n",
              "      <th>Color_Intensity</th>\n",
              "      <th>Hue</th>\n",
              "      <th>OD280</th>\n",
              "      <th>Proline</th>\n",
              "      <th>Customer_Segment</th>\n",
              "    </tr>\n",
              "  </thead>\n",
              "  <tbody>\n",
              "    <tr>\n",
              "      <th>0</th>\n",
              "      <td>14.23</td>\n",
              "      <td>1.71</td>\n",
              "      <td>2.43</td>\n",
              "      <td>15.6</td>\n",
              "      <td>127</td>\n",
              "      <td>2.80</td>\n",
              "      <td>3.06</td>\n",
              "      <td>0.28</td>\n",
              "      <td>2.29</td>\n",
              "      <td>5.64</td>\n",
              "      <td>1.04</td>\n",
              "      <td>3.92</td>\n",
              "      <td>1065</td>\n",
              "      <td>1</td>\n",
              "    </tr>\n",
              "    <tr>\n",
              "      <th>1</th>\n",
              "      <td>13.20</td>\n",
              "      <td>1.78</td>\n",
              "      <td>2.14</td>\n",
              "      <td>11.2</td>\n",
              "      <td>100</td>\n",
              "      <td>2.65</td>\n",
              "      <td>2.76</td>\n",
              "      <td>0.26</td>\n",
              "      <td>1.28</td>\n",
              "      <td>4.38</td>\n",
              "      <td>1.05</td>\n",
              "      <td>3.40</td>\n",
              "      <td>1050</td>\n",
              "      <td>1</td>\n",
              "    </tr>\n",
              "    <tr>\n",
              "      <th>2</th>\n",
              "      <td>13.16</td>\n",
              "      <td>2.36</td>\n",
              "      <td>2.67</td>\n",
              "      <td>18.6</td>\n",
              "      <td>101</td>\n",
              "      <td>2.80</td>\n",
              "      <td>3.24</td>\n",
              "      <td>0.30</td>\n",
              "      <td>2.81</td>\n",
              "      <td>5.68</td>\n",
              "      <td>1.03</td>\n",
              "      <td>3.17</td>\n",
              "      <td>1185</td>\n",
              "      <td>1</td>\n",
              "    </tr>\n",
              "    <tr>\n",
              "      <th>3</th>\n",
              "      <td>14.37</td>\n",
              "      <td>1.95</td>\n",
              "      <td>2.50</td>\n",
              "      <td>16.8</td>\n",
              "      <td>113</td>\n",
              "      <td>3.85</td>\n",
              "      <td>3.49</td>\n",
              "      <td>0.24</td>\n",
              "      <td>2.18</td>\n",
              "      <td>7.80</td>\n",
              "      <td>0.86</td>\n",
              "      <td>3.45</td>\n",
              "      <td>1480</td>\n",
              "      <td>1</td>\n",
              "    </tr>\n",
              "    <tr>\n",
              "      <th>4</th>\n",
              "      <td>13.24</td>\n",
              "      <td>2.59</td>\n",
              "      <td>2.87</td>\n",
              "      <td>21.0</td>\n",
              "      <td>118</td>\n",
              "      <td>2.80</td>\n",
              "      <td>2.69</td>\n",
              "      <td>0.39</td>\n",
              "      <td>1.82</td>\n",
              "      <td>4.32</td>\n",
              "      <td>1.04</td>\n",
              "      <td>2.93</td>\n",
              "      <td>735</td>\n",
              "      <td>1</td>\n",
              "    </tr>\n",
              "  </tbody>\n",
              "</table>\n",
              "</div>"
            ],
            "text/plain": [
              "   Alcohol  Malic_Acid   Ash  ...  OD280  Proline  Customer_Segment\n",
              "0    14.23        1.71  2.43  ...   3.92     1065                 1\n",
              "1    13.20        1.78  2.14  ...   3.40     1050                 1\n",
              "2    13.16        2.36  2.67  ...   3.17     1185                 1\n",
              "3    14.37        1.95  2.50  ...   3.45     1480                 1\n",
              "4    13.24        2.59  2.87  ...   2.93      735                 1\n",
              "\n",
              "[5 rows x 14 columns]"
            ]
          },
          "metadata": {
            "tags": []
          },
          "execution_count": 12
        }
      ]
    },
    {
      "cell_type": "markdown",
      "metadata": {
        "id": "DVNKKUROPQi_"
      },
      "source": [
        "**Analisando os Dados**"
      ]
    },
    {
      "cell_type": "code",
      "metadata": {
        "colab": {
          "base_uri": "https://localhost:8080/",
          "height": 314
        },
        "id": "j74m78fDPAol",
        "outputId": "43bb9fd4-7605-4cf1-fafc-bbd3c3816856"
      },
      "source": [
        "dados.describe()"
      ],
      "execution_count": null,
      "outputs": [
        {
          "output_type": "execute_result",
          "data": {
            "text/html": [
              "<div>\n",
              "<style scoped>\n",
              "    .dataframe tbody tr th:only-of-type {\n",
              "        vertical-align: middle;\n",
              "    }\n",
              "\n",
              "    .dataframe tbody tr th {\n",
              "        vertical-align: top;\n",
              "    }\n",
              "\n",
              "    .dataframe thead th {\n",
              "        text-align: right;\n",
              "    }\n",
              "</style>\n",
              "<table border=\"1\" class=\"dataframe\">\n",
              "  <thead>\n",
              "    <tr style=\"text-align: right;\">\n",
              "      <th></th>\n",
              "      <th>Alcohol</th>\n",
              "      <th>Malic_Acid</th>\n",
              "      <th>Ash</th>\n",
              "      <th>Ash_Alcanity</th>\n",
              "      <th>Magnesium</th>\n",
              "      <th>Total_Phenols</th>\n",
              "      <th>Flavanoids</th>\n",
              "      <th>Nonflavanoid_Phenols</th>\n",
              "      <th>Proanthocyanins</th>\n",
              "      <th>Color_Intensity</th>\n",
              "      <th>Hue</th>\n",
              "      <th>OD280</th>\n",
              "      <th>Proline</th>\n",
              "      <th>Customer_Segment</th>\n",
              "    </tr>\n",
              "  </thead>\n",
              "  <tbody>\n",
              "    <tr>\n",
              "      <th>count</th>\n",
              "      <td>178.000000</td>\n",
              "      <td>178.000000</td>\n",
              "      <td>178.000000</td>\n",
              "      <td>178.000000</td>\n",
              "      <td>178.000000</td>\n",
              "      <td>178.000000</td>\n",
              "      <td>178.000000</td>\n",
              "      <td>178.000000</td>\n",
              "      <td>178.000000</td>\n",
              "      <td>178.000000</td>\n",
              "      <td>178.000000</td>\n",
              "      <td>178.000000</td>\n",
              "      <td>178.000000</td>\n",
              "      <td>178.000000</td>\n",
              "    </tr>\n",
              "    <tr>\n",
              "      <th>mean</th>\n",
              "      <td>13.000618</td>\n",
              "      <td>2.336348</td>\n",
              "      <td>2.366517</td>\n",
              "      <td>19.494944</td>\n",
              "      <td>99.741573</td>\n",
              "      <td>2.295112</td>\n",
              "      <td>2.029270</td>\n",
              "      <td>0.361854</td>\n",
              "      <td>1.590899</td>\n",
              "      <td>5.058090</td>\n",
              "      <td>0.957449</td>\n",
              "      <td>2.611685</td>\n",
              "      <td>746.893258</td>\n",
              "      <td>1.938202</td>\n",
              "    </tr>\n",
              "    <tr>\n",
              "      <th>std</th>\n",
              "      <td>0.811827</td>\n",
              "      <td>1.117146</td>\n",
              "      <td>0.274344</td>\n",
              "      <td>3.339564</td>\n",
              "      <td>14.282484</td>\n",
              "      <td>0.625851</td>\n",
              "      <td>0.998859</td>\n",
              "      <td>0.124453</td>\n",
              "      <td>0.572359</td>\n",
              "      <td>2.318286</td>\n",
              "      <td>0.228572</td>\n",
              "      <td>0.709990</td>\n",
              "      <td>314.907474</td>\n",
              "      <td>0.775035</td>\n",
              "    </tr>\n",
              "    <tr>\n",
              "      <th>min</th>\n",
              "      <td>11.030000</td>\n",
              "      <td>0.740000</td>\n",
              "      <td>1.360000</td>\n",
              "      <td>10.600000</td>\n",
              "      <td>70.000000</td>\n",
              "      <td>0.980000</td>\n",
              "      <td>0.340000</td>\n",
              "      <td>0.130000</td>\n",
              "      <td>0.410000</td>\n",
              "      <td>1.280000</td>\n",
              "      <td>0.480000</td>\n",
              "      <td>1.270000</td>\n",
              "      <td>278.000000</td>\n",
              "      <td>1.000000</td>\n",
              "    </tr>\n",
              "    <tr>\n",
              "      <th>25%</th>\n",
              "      <td>12.362500</td>\n",
              "      <td>1.602500</td>\n",
              "      <td>2.210000</td>\n",
              "      <td>17.200000</td>\n",
              "      <td>88.000000</td>\n",
              "      <td>1.742500</td>\n",
              "      <td>1.205000</td>\n",
              "      <td>0.270000</td>\n",
              "      <td>1.250000</td>\n",
              "      <td>3.220000</td>\n",
              "      <td>0.782500</td>\n",
              "      <td>1.937500</td>\n",
              "      <td>500.500000</td>\n",
              "      <td>1.000000</td>\n",
              "    </tr>\n",
              "    <tr>\n",
              "      <th>50%</th>\n",
              "      <td>13.050000</td>\n",
              "      <td>1.865000</td>\n",
              "      <td>2.360000</td>\n",
              "      <td>19.500000</td>\n",
              "      <td>98.000000</td>\n",
              "      <td>2.355000</td>\n",
              "      <td>2.135000</td>\n",
              "      <td>0.340000</td>\n",
              "      <td>1.555000</td>\n",
              "      <td>4.690000</td>\n",
              "      <td>0.965000</td>\n",
              "      <td>2.780000</td>\n",
              "      <td>673.500000</td>\n",
              "      <td>2.000000</td>\n",
              "    </tr>\n",
              "    <tr>\n",
              "      <th>75%</th>\n",
              "      <td>13.677500</td>\n",
              "      <td>3.082500</td>\n",
              "      <td>2.557500</td>\n",
              "      <td>21.500000</td>\n",
              "      <td>107.000000</td>\n",
              "      <td>2.800000</td>\n",
              "      <td>2.875000</td>\n",
              "      <td>0.437500</td>\n",
              "      <td>1.950000</td>\n",
              "      <td>6.200000</td>\n",
              "      <td>1.120000</td>\n",
              "      <td>3.170000</td>\n",
              "      <td>985.000000</td>\n",
              "      <td>3.000000</td>\n",
              "    </tr>\n",
              "    <tr>\n",
              "      <th>max</th>\n",
              "      <td>14.830000</td>\n",
              "      <td>5.800000</td>\n",
              "      <td>3.230000</td>\n",
              "      <td>30.000000</td>\n",
              "      <td>162.000000</td>\n",
              "      <td>3.880000</td>\n",
              "      <td>5.080000</td>\n",
              "      <td>0.660000</td>\n",
              "      <td>3.580000</td>\n",
              "      <td>13.000000</td>\n",
              "      <td>1.710000</td>\n",
              "      <td>4.000000</td>\n",
              "      <td>1680.000000</td>\n",
              "      <td>3.000000</td>\n",
              "    </tr>\n",
              "  </tbody>\n",
              "</table>\n",
              "</div>"
            ],
            "text/plain": [
              "          Alcohol  Malic_Acid  ...      Proline  Customer_Segment\n",
              "count  178.000000  178.000000  ...   178.000000        178.000000\n",
              "mean    13.000618    2.336348  ...   746.893258          1.938202\n",
              "std      0.811827    1.117146  ...   314.907474          0.775035\n",
              "min     11.030000    0.740000  ...   278.000000          1.000000\n",
              "25%     12.362500    1.602500  ...   500.500000          1.000000\n",
              "50%     13.050000    1.865000  ...   673.500000          2.000000\n",
              "75%     13.677500    3.082500  ...   985.000000          3.000000\n",
              "max     14.830000    5.800000  ...  1680.000000          3.000000\n",
              "\n",
              "[8 rows x 14 columns]"
            ]
          },
          "metadata": {
            "tags": []
          },
          "execution_count": 13
        }
      ]
    },
    {
      "cell_type": "markdown",
      "metadata": {
        "id": "DGJUGa22PvTg"
      },
      "source": [
        "**Atributos com Informação Importante**"
      ]
    },
    {
      "cell_type": "code",
      "metadata": {
        "colab": {
          "base_uri": "https://localhost:8080/",
          "height": 498
        },
        "id": "R-ux-Rk8QGg1",
        "outputId": "380edd9c-6054-490f-a763-76e7d6405d00"
      },
      "source": [
        "matriz_corr = dados.corr()\n",
        "matriz_corr"
      ],
      "execution_count": null,
      "outputs": [
        {
          "output_type": "execute_result",
          "data": {
            "text/html": [
              "<div>\n",
              "<style scoped>\n",
              "    .dataframe tbody tr th:only-of-type {\n",
              "        vertical-align: middle;\n",
              "    }\n",
              "\n",
              "    .dataframe tbody tr th {\n",
              "        vertical-align: top;\n",
              "    }\n",
              "\n",
              "    .dataframe thead th {\n",
              "        text-align: right;\n",
              "    }\n",
              "</style>\n",
              "<table border=\"1\" class=\"dataframe\">\n",
              "  <thead>\n",
              "    <tr style=\"text-align: right;\">\n",
              "      <th></th>\n",
              "      <th>Alcohol</th>\n",
              "      <th>Malic_Acid</th>\n",
              "      <th>Ash</th>\n",
              "      <th>Ash_Alcanity</th>\n",
              "      <th>Magnesium</th>\n",
              "      <th>Total_Phenols</th>\n",
              "      <th>Flavanoids</th>\n",
              "      <th>Nonflavanoid_Phenols</th>\n",
              "      <th>Proanthocyanins</th>\n",
              "      <th>Color_Intensity</th>\n",
              "      <th>Hue</th>\n",
              "      <th>OD280</th>\n",
              "      <th>Proline</th>\n",
              "      <th>Customer_Segment</th>\n",
              "    </tr>\n",
              "  </thead>\n",
              "  <tbody>\n",
              "    <tr>\n",
              "      <th>Alcohol</th>\n",
              "      <td>1.000000</td>\n",
              "      <td>0.094397</td>\n",
              "      <td>0.211545</td>\n",
              "      <td>-0.310235</td>\n",
              "      <td>0.270798</td>\n",
              "      <td>0.289101</td>\n",
              "      <td>0.236815</td>\n",
              "      <td>-0.155929</td>\n",
              "      <td>0.136698</td>\n",
              "      <td>0.546364</td>\n",
              "      <td>-0.071747</td>\n",
              "      <td>0.072343</td>\n",
              "      <td>0.643720</td>\n",
              "      <td>-0.328222</td>\n",
              "    </tr>\n",
              "    <tr>\n",
              "      <th>Malic_Acid</th>\n",
              "      <td>0.094397</td>\n",
              "      <td>1.000000</td>\n",
              "      <td>0.164045</td>\n",
              "      <td>0.288500</td>\n",
              "      <td>-0.054575</td>\n",
              "      <td>-0.335167</td>\n",
              "      <td>-0.411007</td>\n",
              "      <td>0.292977</td>\n",
              "      <td>-0.220746</td>\n",
              "      <td>0.248985</td>\n",
              "      <td>-0.561296</td>\n",
              "      <td>-0.368710</td>\n",
              "      <td>-0.192011</td>\n",
              "      <td>0.437776</td>\n",
              "    </tr>\n",
              "    <tr>\n",
              "      <th>Ash</th>\n",
              "      <td>0.211545</td>\n",
              "      <td>0.164045</td>\n",
              "      <td>1.000000</td>\n",
              "      <td>0.443367</td>\n",
              "      <td>0.286587</td>\n",
              "      <td>0.128980</td>\n",
              "      <td>0.115077</td>\n",
              "      <td>0.186230</td>\n",
              "      <td>0.009652</td>\n",
              "      <td>0.258887</td>\n",
              "      <td>-0.074667</td>\n",
              "      <td>0.003911</td>\n",
              "      <td>0.223626</td>\n",
              "      <td>-0.049643</td>\n",
              "    </tr>\n",
              "    <tr>\n",
              "      <th>Ash_Alcanity</th>\n",
              "      <td>-0.310235</td>\n",
              "      <td>0.288500</td>\n",
              "      <td>0.443367</td>\n",
              "      <td>1.000000</td>\n",
              "      <td>-0.083333</td>\n",
              "      <td>-0.321113</td>\n",
              "      <td>-0.351370</td>\n",
              "      <td>0.361922</td>\n",
              "      <td>-0.197327</td>\n",
              "      <td>0.018732</td>\n",
              "      <td>-0.273955</td>\n",
              "      <td>-0.276769</td>\n",
              "      <td>-0.440597</td>\n",
              "      <td>0.517859</td>\n",
              "    </tr>\n",
              "    <tr>\n",
              "      <th>Magnesium</th>\n",
              "      <td>0.270798</td>\n",
              "      <td>-0.054575</td>\n",
              "      <td>0.286587</td>\n",
              "      <td>-0.083333</td>\n",
              "      <td>1.000000</td>\n",
              "      <td>0.214401</td>\n",
              "      <td>0.195784</td>\n",
              "      <td>-0.256294</td>\n",
              "      <td>0.236441</td>\n",
              "      <td>0.199950</td>\n",
              "      <td>0.055398</td>\n",
              "      <td>0.066004</td>\n",
              "      <td>0.393351</td>\n",
              "      <td>-0.209179</td>\n",
              "    </tr>\n",
              "    <tr>\n",
              "      <th>Total_Phenols</th>\n",
              "      <td>0.289101</td>\n",
              "      <td>-0.335167</td>\n",
              "      <td>0.128980</td>\n",
              "      <td>-0.321113</td>\n",
              "      <td>0.214401</td>\n",
              "      <td>1.000000</td>\n",
              "      <td>0.864564</td>\n",
              "      <td>-0.449935</td>\n",
              "      <td>0.612413</td>\n",
              "      <td>-0.055136</td>\n",
              "      <td>0.433681</td>\n",
              "      <td>0.699949</td>\n",
              "      <td>0.498115</td>\n",
              "      <td>-0.719163</td>\n",
              "    </tr>\n",
              "    <tr>\n",
              "      <th>Flavanoids</th>\n",
              "      <td>0.236815</td>\n",
              "      <td>-0.411007</td>\n",
              "      <td>0.115077</td>\n",
              "      <td>-0.351370</td>\n",
              "      <td>0.195784</td>\n",
              "      <td>0.864564</td>\n",
              "      <td>1.000000</td>\n",
              "      <td>-0.537900</td>\n",
              "      <td>0.652692</td>\n",
              "      <td>-0.172379</td>\n",
              "      <td>0.543479</td>\n",
              "      <td>0.787194</td>\n",
              "      <td>0.494193</td>\n",
              "      <td>-0.847498</td>\n",
              "    </tr>\n",
              "    <tr>\n",
              "      <th>Nonflavanoid_Phenols</th>\n",
              "      <td>-0.155929</td>\n",
              "      <td>0.292977</td>\n",
              "      <td>0.186230</td>\n",
              "      <td>0.361922</td>\n",
              "      <td>-0.256294</td>\n",
              "      <td>-0.449935</td>\n",
              "      <td>-0.537900</td>\n",
              "      <td>1.000000</td>\n",
              "      <td>-0.365845</td>\n",
              "      <td>0.139057</td>\n",
              "      <td>-0.262640</td>\n",
              "      <td>-0.503270</td>\n",
              "      <td>-0.311385</td>\n",
              "      <td>0.489109</td>\n",
              "    </tr>\n",
              "    <tr>\n",
              "      <th>Proanthocyanins</th>\n",
              "      <td>0.136698</td>\n",
              "      <td>-0.220746</td>\n",
              "      <td>0.009652</td>\n",
              "      <td>-0.197327</td>\n",
              "      <td>0.236441</td>\n",
              "      <td>0.612413</td>\n",
              "      <td>0.652692</td>\n",
              "      <td>-0.365845</td>\n",
              "      <td>1.000000</td>\n",
              "      <td>-0.025250</td>\n",
              "      <td>0.295544</td>\n",
              "      <td>0.519067</td>\n",
              "      <td>0.330417</td>\n",
              "      <td>-0.499130</td>\n",
              "    </tr>\n",
              "    <tr>\n",
              "      <th>Color_Intensity</th>\n",
              "      <td>0.546364</td>\n",
              "      <td>0.248985</td>\n",
              "      <td>0.258887</td>\n",
              "      <td>0.018732</td>\n",
              "      <td>0.199950</td>\n",
              "      <td>-0.055136</td>\n",
              "      <td>-0.172379</td>\n",
              "      <td>0.139057</td>\n",
              "      <td>-0.025250</td>\n",
              "      <td>1.000000</td>\n",
              "      <td>-0.521813</td>\n",
              "      <td>-0.428815</td>\n",
              "      <td>0.316100</td>\n",
              "      <td>0.265668</td>\n",
              "    </tr>\n",
              "    <tr>\n",
              "      <th>Hue</th>\n",
              "      <td>-0.071747</td>\n",
              "      <td>-0.561296</td>\n",
              "      <td>-0.074667</td>\n",
              "      <td>-0.273955</td>\n",
              "      <td>0.055398</td>\n",
              "      <td>0.433681</td>\n",
              "      <td>0.543479</td>\n",
              "      <td>-0.262640</td>\n",
              "      <td>0.295544</td>\n",
              "      <td>-0.521813</td>\n",
              "      <td>1.000000</td>\n",
              "      <td>0.565468</td>\n",
              "      <td>0.236183</td>\n",
              "      <td>-0.617369</td>\n",
              "    </tr>\n",
              "    <tr>\n",
              "      <th>OD280</th>\n",
              "      <td>0.072343</td>\n",
              "      <td>-0.368710</td>\n",
              "      <td>0.003911</td>\n",
              "      <td>-0.276769</td>\n",
              "      <td>0.066004</td>\n",
              "      <td>0.699949</td>\n",
              "      <td>0.787194</td>\n",
              "      <td>-0.503270</td>\n",
              "      <td>0.519067</td>\n",
              "      <td>-0.428815</td>\n",
              "      <td>0.565468</td>\n",
              "      <td>1.000000</td>\n",
              "      <td>0.312761</td>\n",
              "      <td>-0.788230</td>\n",
              "    </tr>\n",
              "    <tr>\n",
              "      <th>Proline</th>\n",
              "      <td>0.643720</td>\n",
              "      <td>-0.192011</td>\n",
              "      <td>0.223626</td>\n",
              "      <td>-0.440597</td>\n",
              "      <td>0.393351</td>\n",
              "      <td>0.498115</td>\n",
              "      <td>0.494193</td>\n",
              "      <td>-0.311385</td>\n",
              "      <td>0.330417</td>\n",
              "      <td>0.316100</td>\n",
              "      <td>0.236183</td>\n",
              "      <td>0.312761</td>\n",
              "      <td>1.000000</td>\n",
              "      <td>-0.633717</td>\n",
              "    </tr>\n",
              "    <tr>\n",
              "      <th>Customer_Segment</th>\n",
              "      <td>-0.328222</td>\n",
              "      <td>0.437776</td>\n",
              "      <td>-0.049643</td>\n",
              "      <td>0.517859</td>\n",
              "      <td>-0.209179</td>\n",
              "      <td>-0.719163</td>\n",
              "      <td>-0.847498</td>\n",
              "      <td>0.489109</td>\n",
              "      <td>-0.499130</td>\n",
              "      <td>0.265668</td>\n",
              "      <td>-0.617369</td>\n",
              "      <td>-0.788230</td>\n",
              "      <td>-0.633717</td>\n",
              "      <td>1.000000</td>\n",
              "    </tr>\n",
              "  </tbody>\n",
              "</table>\n",
              "</div>"
            ],
            "text/plain": [
              "                       Alcohol  Malic_Acid  ...   Proline  Customer_Segment\n",
              "Alcohol               1.000000    0.094397  ...  0.643720         -0.328222\n",
              "Malic_Acid            0.094397    1.000000  ... -0.192011          0.437776\n",
              "Ash                   0.211545    0.164045  ...  0.223626         -0.049643\n",
              "Ash_Alcanity         -0.310235    0.288500  ... -0.440597          0.517859\n",
              "Magnesium             0.270798   -0.054575  ...  0.393351         -0.209179\n",
              "Total_Phenols         0.289101   -0.335167  ...  0.498115         -0.719163\n",
              "Flavanoids            0.236815   -0.411007  ...  0.494193         -0.847498\n",
              "Nonflavanoid_Phenols -0.155929    0.292977  ... -0.311385          0.489109\n",
              "Proanthocyanins       0.136698   -0.220746  ...  0.330417         -0.499130\n",
              "Color_Intensity       0.546364    0.248985  ...  0.316100          0.265668\n",
              "Hue                  -0.071747   -0.561296  ...  0.236183         -0.617369\n",
              "OD280                 0.072343   -0.368710  ...  0.312761         -0.788230\n",
              "Proline               0.643720   -0.192011  ...  1.000000         -0.633717\n",
              "Customer_Segment     -0.328222    0.437776  ... -0.633717          1.000000\n",
              "\n",
              "[14 rows x 14 columns]"
            ]
          },
          "metadata": {
            "tags": []
          },
          "execution_count": 14
        }
      ]
    },
    {
      "cell_type": "code",
      "metadata": {
        "colab": {
          "base_uri": "https://localhost:8080/"
        },
        "id": "ekQZMLTaQPLe",
        "outputId": "d38fb32e-6c4a-4b7d-a942-99b6ca71b3b9"
      },
      "source": [
        "pip install biokit"
      ],
      "execution_count": null,
      "outputs": [
        {
          "output_type": "stream",
          "text": [
            "Collecting biokit\n",
            "\u001b[?25l  Downloading https://files.pythonhosted.org/packages/57/55/d5dfb2d3e73a73d31ef13e3ee77467ce4a9320e8858f1fe49104c9bc9b88/biokit-0.4.6.tar.gz (198kB)\n",
            "\u001b[K     |████████████████████████████████| 204kB 5.6MB/s \n",
            "\u001b[?25hCollecting easydev>=0.9.34\n",
            "\u001b[?25l  Downloading https://files.pythonhosted.org/packages/27/80/946c6adac56daa00ca9c9b5242e68327e9a0cca47e6fc6c91d3b3eb31de4/easydev-0.11.0.tar.gz (47kB)\n",
            "\u001b[K     |████████████████████████████████| 51kB 3.4MB/s \n",
            "\u001b[?25hRequirement already satisfied: pandas in /usr/local/lib/python3.7/dist-packages (from biokit) (1.1.5)\n",
            "Collecting bioservices>=1.4.5\n",
            "\u001b[?25l  Downloading https://files.pythonhosted.org/packages/bf/11/da269203854425f419805606d60a1c93af30e5ea50924a5a124f05dea638/bioservices-1.7.11.tar.gz (226kB)\n",
            "\u001b[K     |████████████████████████████████| 235kB 6.9MB/s \n",
            "\u001b[?25hCollecting colormap\n",
            "  Downloading https://files.pythonhosted.org/packages/a7/26/629aa9f3187c77725f8dc045c6dc922bc846cff386f7e5945e845e104bbe/colormap-1.0.3.tar.gz\n",
            "Requirement already satisfied: scipy in /usr/local/lib/python3.7/dist-packages (from biokit) (1.4.1)\n",
            "Collecting biopython\n",
            "\u001b[?25l  Downloading https://files.pythonhosted.org/packages/3a/cd/0098eaff841850c01da928c7f509b72fd3e1f51d77b772e24de9e2312471/biopython-1.78-cp37-cp37m-manylinux1_x86_64.whl (2.3MB)\n",
            "\u001b[K     |████████████████████████████████| 2.3MB 7.4MB/s \n",
            "\u001b[?25hRequirement already satisfied: matplotlib in /usr/local/lib/python3.7/dist-packages (from biokit) (3.2.2)\n",
            "Collecting numpydoc\n",
            "\u001b[?25l  Downloading https://files.pythonhosted.org/packages/60/1d/9e398c53d6ae27d5ab312ddc16a9ffe1bee0dfdf1d6ec88c40b0ca97582e/numpydoc-1.1.0-py3-none-any.whl (47kB)\n",
            "\u001b[K     |████████████████████████████████| 51kB 5.5MB/s \n",
            "\u001b[?25hCollecting colorlog\n",
            "  Downloading https://files.pythonhosted.org/packages/5e/39/0230290df0519d528d8d0ffdfd900150ed24e0076d13b1f19e279444aab1/colorlog-4.7.2-py2.py3-none-any.whl\n",
            "Requirement already satisfied: pyyaml in /usr/local/lib/python3.7/dist-packages (from biokit) (3.13)\n",
            "Collecting pysam\n",
            "\u001b[?25l  Downloading https://files.pythonhosted.org/packages/20/85/335857b9888f6d9a13b03a8f21b0a6228b180c361631d9d70e7be3e22163/pysam-0.16.0.1-cp37-cp37m-manylinux1_x86_64.whl (9.9MB)\n",
            "\u001b[K     |████████████████████████████████| 9.9MB 14.7MB/s \n",
            "\u001b[?25hCollecting colorama\n",
            "  Downloading https://files.pythonhosted.org/packages/44/98/5b86278fbbf250d239ae0ecb724f8572af1c91f4a11edf4d36a206189440/colorama-0.4.4-py2.py3-none-any.whl\n",
            "Requirement already satisfied: pexpect in /usr/local/lib/python3.7/dist-packages (from easydev>=0.9.34->biokit) (4.8.0)\n",
            "Requirement already satisfied: python-dateutil>=2.7.3 in /usr/local/lib/python3.7/dist-packages (from pandas->biokit) (2.8.1)\n",
            "Requirement already satisfied: pytz>=2017.2 in /usr/local/lib/python3.7/dist-packages (from pandas->biokit) (2018.9)\n",
            "Requirement already satisfied: numpy>=1.15.4 in /usr/local/lib/python3.7/dist-packages (from pandas->biokit) (1.19.5)\n",
            "Collecting grequests\n",
            "  Downloading https://files.pythonhosted.org/packages/ed/4c/926fe81584bb9139511ec6490a924362dcc49d3d33a7fa20a7dc6515c266/grequests-0.6.0-py3-none-any.whl\n",
            "Requirement already satisfied: requests in /usr/local/lib/python3.7/dist-packages (from bioservices>=1.4.5->biokit) (2.23.0)\n",
            "Collecting requests_cache\n",
            "  Downloading https://files.pythonhosted.org/packages/7f/55/9b1c40eb83c16d8fc79c5f6c2ffade04208b080670fbfc35e0a5effb5a92/requests_cache-0.5.2-py2.py3-none-any.whl\n",
            "Requirement already satisfied: beautifulsoup4 in /usr/local/lib/python3.7/dist-packages (from bioservices>=1.4.5->biokit) (4.6.3)\n",
            "Collecting xmltodict\n",
            "  Downloading https://files.pythonhosted.org/packages/28/fd/30d5c1d3ac29ce229f6bdc40bbc20b28f716e8b363140c26eff19122d8a5/xmltodict-0.12.0-py2.py3-none-any.whl\n",
            "Requirement already satisfied: lxml in /usr/local/lib/python3.7/dist-packages (from bioservices>=1.4.5->biokit) (4.2.6)\n",
            "Collecting suds-jurko\n",
            "\u001b[?25l  Downloading https://files.pythonhosted.org/packages/bd/6f/54fbf0999a606680d27c69b1ad12dfff62768ecb9fe48524cebda6eb4423/suds-jurko-0.6.tar.bz2 (143kB)\n",
            "\u001b[K     |████████████████████████████████| 153kB 52.4MB/s \n",
            "\u001b[?25hRequirement already satisfied: appdirs in /usr/local/lib/python3.7/dist-packages (from bioservices>=1.4.5->biokit) (1.4.4)\n",
            "Requirement already satisfied: wrapt in /usr/local/lib/python3.7/dist-packages (from bioservices>=1.4.5->biokit) (1.12.1)\n",
            "Requirement already satisfied: cycler>=0.10 in /usr/local/lib/python3.7/dist-packages (from matplotlib->biokit) (0.10.0)\n",
            "Requirement already satisfied: kiwisolver>=1.0.1 in /usr/local/lib/python3.7/dist-packages (from matplotlib->biokit) (1.3.1)\n",
            "Requirement already satisfied: pyparsing!=2.0.4,!=2.1.2,!=2.1.6,>=2.0.1 in /usr/local/lib/python3.7/dist-packages (from matplotlib->biokit) (2.4.7)\n",
            "Requirement already satisfied: sphinx>=1.6.5 in /usr/local/lib/python3.7/dist-packages (from numpydoc->biokit) (1.8.5)\n",
            "Requirement already satisfied: Jinja2>=2.3 in /usr/local/lib/python3.7/dist-packages (from numpydoc->biokit) (2.11.3)\n",
            "Requirement already satisfied: ptyprocess>=0.5 in /usr/local/lib/python3.7/dist-packages (from pexpect->easydev>=0.9.34->biokit) (0.7.0)\n",
            "Requirement already satisfied: six>=1.5 in /usr/local/lib/python3.7/dist-packages (from python-dateutil>=2.7.3->pandas->biokit) (1.15.0)\n",
            "Collecting gevent\n",
            "\u001b[?25l  Downloading https://files.pythonhosted.org/packages/3e/85/df3d1fd2b60a87455475f93012861b76a411d27ba4a0859939adbe2c9dc3/gevent-21.1.2-cp37-cp37m-manylinux2010_x86_64.whl (5.6MB)\n",
            "\u001b[K     |████████████████████████████████| 5.6MB 48.0MB/s \n",
            "\u001b[?25hRequirement already satisfied: certifi>=2017.4.17 in /usr/local/lib/python3.7/dist-packages (from requests->bioservices>=1.4.5->biokit) (2020.12.5)\n",
            "Requirement already satisfied: idna<3,>=2.5 in /usr/local/lib/python3.7/dist-packages (from requests->bioservices>=1.4.5->biokit) (2.10)\n",
            "Requirement already satisfied: urllib3!=1.25.0,!=1.25.1,<1.26,>=1.21.1 in /usr/local/lib/python3.7/dist-packages (from requests->bioservices>=1.4.5->biokit) (1.24.3)\n",
            "Requirement already satisfied: chardet<4,>=3.0.2 in /usr/local/lib/python3.7/dist-packages (from requests->bioservices>=1.4.5->biokit) (3.0.4)\n",
            "Requirement already satisfied: Pygments>=2.0 in /usr/local/lib/python3.7/dist-packages (from sphinx>=1.6.5->numpydoc->biokit) (2.6.1)\n",
            "Requirement already satisfied: imagesize in /usr/local/lib/python3.7/dist-packages (from sphinx>=1.6.5->numpydoc->biokit) (1.2.0)\n",
            "Requirement already satisfied: sphinxcontrib-websupport in /usr/local/lib/python3.7/dist-packages (from sphinx>=1.6.5->numpydoc->biokit) (1.2.4)\n",
            "Requirement already satisfied: alabaster<0.8,>=0.7 in /usr/local/lib/python3.7/dist-packages (from sphinx>=1.6.5->numpydoc->biokit) (0.7.12)\n",
            "Requirement already satisfied: snowballstemmer>=1.1 in /usr/local/lib/python3.7/dist-packages (from sphinx>=1.6.5->numpydoc->biokit) (2.1.0)\n",
            "Requirement already satisfied: babel!=2.0,>=1.3 in /usr/local/lib/python3.7/dist-packages (from sphinx>=1.6.5->numpydoc->biokit) (2.9.0)\n",
            "Requirement already satisfied: setuptools in /usr/local/lib/python3.7/dist-packages (from sphinx>=1.6.5->numpydoc->biokit) (54.0.0)\n",
            "Requirement already satisfied: packaging in /usr/local/lib/python3.7/dist-packages (from sphinx>=1.6.5->numpydoc->biokit) (20.9)\n",
            "Requirement already satisfied: docutils>=0.11 in /usr/local/lib/python3.7/dist-packages (from sphinx>=1.6.5->numpydoc->biokit) (0.16)\n",
            "Requirement already satisfied: MarkupSafe>=0.23 in /usr/local/lib/python3.7/dist-packages (from Jinja2>=2.3->numpydoc->biokit) (1.1.1)\n",
            "Collecting greenlet<2.0,>=0.4.17; platform_python_implementation == \"CPython\"\n",
            "\u001b[?25l  Downloading https://files.pythonhosted.org/packages/c6/25/f52f0dde4135833c2f85eae30a749d260231065b46942534df8366d7e1ec/greenlet-1.0.0-cp37-cp37m-manylinux2010_x86_64.whl (160kB)\n",
            "\u001b[K     |████████████████████████████████| 163kB 40.6MB/s \n",
            "\u001b[?25hCollecting zope.event\n",
            "  Downloading https://files.pythonhosted.org/packages/9e/85/b45408c64f3b888976f1d5b37eed8d746b8d5729a66a49ec846fda27d371/zope.event-4.5.0-py2.py3-none-any.whl\n",
            "Collecting zope.interface\n",
            "\u001b[?25l  Downloading https://files.pythonhosted.org/packages/f8/42/d8f11eaef844bee267821281fffe445e49cf31b486d72a81821a9d45cd0a/zope.interface-5.2.0-cp37-cp37m-manylinux2010_x86_64.whl (237kB)\n",
            "\u001b[K     |████████████████████████████████| 245kB 43.5MB/s \n",
            "\u001b[?25hRequirement already satisfied: sphinxcontrib-serializinghtml in /usr/local/lib/python3.7/dist-packages (from sphinxcontrib-websupport->sphinx>=1.6.5->numpydoc->biokit) (1.1.4)\n",
            "Building wheels for collected packages: biokit, easydev, bioservices, colormap, suds-jurko\n",
            "  Building wheel for biokit (setup.py) ... \u001b[?25l\u001b[?25hdone\n",
            "  Created wheel for biokit: filename=biokit-0.4.6-cp37-none-any.whl size=212704 sha256=65f5ac47858e2c7ca2b0b0ee9fc026aea77df138dcf9fe87fd57df0123d03313\n",
            "  Stored in directory: /root/.cache/pip/wheels/4b/a4/b8/d175a38f46474694964e00f1d6c37335e4cce1b24de74093d2\n",
            "  Building wheel for easydev (setup.py) ... \u001b[?25l\u001b[?25hdone\n",
            "  Created wheel for easydev: filename=easydev-0.11.0-cp37-none-any.whl size=64244 sha256=246417bb22276afbfddb18c23fb5c361c783da46beeeb0d712a860dbda054d06\n",
            "  Stored in directory: /root/.cache/pip/wheels/17/69/b5/771949d8100a30aa33e4bc5d0ff77eced9063284891ce26898\n",
            "  Building wheel for bioservices (setup.py) ... \u001b[?25l\u001b[?25hdone\n",
            "  Created wheel for bioservices: filename=bioservices-1.7.11-cp37-none-any.whl size=236089 sha256=75d8d3e58e318bdc448c18f86af59f530aac7c513091c8821014c4b8c71c9628\n",
            "  Stored in directory: /root/.cache/pip/wheels/60/6c/61/1e0bf60bbf1c01bebc0b36f25aa94a4028474203414ed4088d\n",
            "  Building wheel for colormap (setup.py) ... \u001b[?25l\u001b[?25hdone\n",
            "  Created wheel for colormap: filename=colormap-1.0.3-cp37-none-any.whl size=15561 sha256=506d6d4545dc1d99761660c3fed33b031c02d7046662233e1582b38a8fdffb29\n",
            "  Stored in directory: /root/.cache/pip/wheels/b5/c4/23/5f5d3e77fb0d00f44ee147a9cbb3acb641b9ebe2f3d5406c66\n",
            "  Building wheel for suds-jurko (setup.py) ... \u001b[?25l\u001b[?25hdone\n",
            "  Created wheel for suds-jurko: filename=suds_jurko-0.6-cp37-none-any.whl size=454297 sha256=d807ba83292bf2119da12e609981c8b8cd112180e436b606069fb4017c527636\n",
            "  Stored in directory: /root/.cache/pip/wheels/12/68/53/d3902c054e32115da1d45bac442a547a071a86a65db4d77027\n",
            "Successfully built biokit easydev bioservices colormap suds-jurko\n",
            "Installing collected packages: colorama, colorlog, easydev, greenlet, zope.event, zope.interface, gevent, grequests, requests-cache, xmltodict, suds-jurko, bioservices, colormap, biopython, numpydoc, pysam, biokit\n",
            "Successfully installed biokit-0.4.6 biopython-1.78 bioservices-1.7.11 colorama-0.4.4 colorlog-4.7.2 colormap-1.0.3 easydev-0.11.0 gevent-21.1.2 greenlet-1.0.0 grequests-0.6.0 numpydoc-1.1.0 pysam-0.16.0.1 requests-cache-0.5.2 suds-jurko-0.6 xmltodict-0.12.0 zope.event-4.5.0 zope.interface-5.2.0\n"
          ],
          "name": "stdout"
        }
      ]
    },
    {
      "cell_type": "code",
      "metadata": {
        "id": "7Ls7_bJvQj8X"
      },
      "source": [
        "from biokit.viz import corrplot\n",
        "import matplotlib.pyplot as plt"
      ],
      "execution_count": null,
      "outputs": []
    },
    {
      "cell_type": "code",
      "metadata": {
        "colab": {
          "base_uri": "https://localhost:8080/",
          "height": 605
        },
        "id": "S9aXeiSmRl85",
        "outputId": "8ca8f28b-fa83-49cf-dad8-d11b217fca1d"
      },
      "source": [
        "corr_graf = corrplot.Corrplot(matriz_corr)\n",
        "corr_graf.plot(upper = \"ellipse\", fontsize=\"x-large\")\n",
        "fig = plt.gcf()\n",
        "fig.set_size_inches(13,9)\n",
        "fig.show()"
      ],
      "execution_count": null,
      "outputs": [
        {
          "output_type": "stream",
          "text": [
            "/usr/local/lib/python3.7/dist-packages/biokit/viz/corrplot.py:335: MatplotlibDeprecationWarning:\n",
            "\n",
            "\n",
            "The set_clim function was deprecated in Matplotlib 3.1 and will be removed in 3.3. Use ScalarMappable.set_clim instead.\n",
            "\n"
          ],
          "name": "stderr"
        },
        {
          "output_type": "display_data",
          "data": {
            "image/png": "[encoded data removed]",
            "text/plain": [
              "<Figure size 936x648 with 2 Axes>"
            ]
          },
          "metadata": {
            "tags": []
          }
        }
      ]
    },
    {
      "cell_type": "markdown",
      "metadata": {
        "id": "E1wLZGdlSiq7"
      },
      "source": [
        "**Normalização Manual**"
      ]
    },
    {
      "cell_type": "code",
      "metadata": {
        "colab": {
          "base_uri": "https://localhost:8080/",
          "height": 314
        },
        "id": "YWl5srXPSoRA",
        "outputId": "3e74d872-708d-4865-ca79-ba03e00f8095"
      },
      "source": [
        "dados.describe()"
      ],
      "execution_count": null,
      "outputs": [
        {
          "output_type": "execute_result",
          "data": {
            "text/html": [
              "<div>\n",
              "<style scoped>\n",
              "    .dataframe tbody tr th:only-of-type {\n",
              "        vertical-align: middle;\n",
              "    }\n",
              "\n",
              "    .dataframe tbody tr th {\n",
              "        vertical-align: top;\n",
              "    }\n",
              "\n",
              "    .dataframe thead th {\n",
              "        text-align: right;\n",
              "    }\n",
              "</style>\n",
              "<table border=\"1\" class=\"dataframe\">\n",
              "  <thead>\n",
              "    <tr style=\"text-align: right;\">\n",
              "      <th></th>\n",
              "      <th>Alcohol</th>\n",
              "      <th>Malic_Acid</th>\n",
              "      <th>Ash</th>\n",
              "      <th>Ash_Alcanity</th>\n",
              "      <th>Magnesium</th>\n",
              "      <th>Total_Phenols</th>\n",
              "      <th>Flavanoids</th>\n",
              "      <th>Nonflavanoid_Phenols</th>\n",
              "      <th>Proanthocyanins</th>\n",
              "      <th>Color_Intensity</th>\n",
              "      <th>Hue</th>\n",
              "      <th>OD280</th>\n",
              "      <th>Proline</th>\n",
              "      <th>Customer_Segment</th>\n",
              "    </tr>\n",
              "  </thead>\n",
              "  <tbody>\n",
              "    <tr>\n",
              "      <th>count</th>\n",
              "      <td>178.000000</td>\n",
              "      <td>178.000000</td>\n",
              "      <td>178.000000</td>\n",
              "      <td>178.000000</td>\n",
              "      <td>178.000000</td>\n",
              "      <td>178.000000</td>\n",
              "      <td>178.000000</td>\n",
              "      <td>178.000000</td>\n",
              "      <td>178.000000</td>\n",
              "      <td>178.000000</td>\n",
              "      <td>178.000000</td>\n",
              "      <td>178.000000</td>\n",
              "      <td>178.000000</td>\n",
              "      <td>178.000000</td>\n",
              "    </tr>\n",
              "    <tr>\n",
              "      <th>mean</th>\n",
              "      <td>13.000618</td>\n",
              "      <td>2.336348</td>\n",
              "      <td>2.366517</td>\n",
              "      <td>19.494944</td>\n",
              "      <td>99.741573</td>\n",
              "      <td>2.295112</td>\n",
              "      <td>2.029270</td>\n",
              "      <td>0.361854</td>\n",
              "      <td>1.590899</td>\n",
              "      <td>5.058090</td>\n",
              "      <td>0.957449</td>\n",
              "      <td>2.611685</td>\n",
              "      <td>746.893258</td>\n",
              "      <td>1.938202</td>\n",
              "    </tr>\n",
              "    <tr>\n",
              "      <th>std</th>\n",
              "      <td>0.811827</td>\n",
              "      <td>1.117146</td>\n",
              "      <td>0.274344</td>\n",
              "      <td>3.339564</td>\n",
              "      <td>14.282484</td>\n",
              "      <td>0.625851</td>\n",
              "      <td>0.998859</td>\n",
              "      <td>0.124453</td>\n",
              "      <td>0.572359</td>\n",
              "      <td>2.318286</td>\n",
              "      <td>0.228572</td>\n",
              "      <td>0.709990</td>\n",
              "      <td>314.907474</td>\n",
              "      <td>0.775035</td>\n",
              "    </tr>\n",
              "    <tr>\n",
              "      <th>min</th>\n",
              "      <td>11.030000</td>\n",
              "      <td>0.740000</td>\n",
              "      <td>1.360000</td>\n",
              "      <td>10.600000</td>\n",
              "      <td>70.000000</td>\n",
              "      <td>0.980000</td>\n",
              "      <td>0.340000</td>\n",
              "      <td>0.130000</td>\n",
              "      <td>0.410000</td>\n",
              "      <td>1.280000</td>\n",
              "      <td>0.480000</td>\n",
              "      <td>1.270000</td>\n",
              "      <td>278.000000</td>\n",
              "      <td>1.000000</td>\n",
              "    </tr>\n",
              "    <tr>\n",
              "      <th>25%</th>\n",
              "      <td>12.362500</td>\n",
              "      <td>1.602500</td>\n",
              "      <td>2.210000</td>\n",
              "      <td>17.200000</td>\n",
              "      <td>88.000000</td>\n",
              "      <td>1.742500</td>\n",
              "      <td>1.205000</td>\n",
              "      <td>0.270000</td>\n",
              "      <td>1.250000</td>\n",
              "      <td>3.220000</td>\n",
              "      <td>0.782500</td>\n",
              "      <td>1.937500</td>\n",
              "      <td>500.500000</td>\n",
              "      <td>1.000000</td>\n",
              "    </tr>\n",
              "    <tr>\n",
              "      <th>50%</th>\n",
              "      <td>13.050000</td>\n",
              "      <td>1.865000</td>\n",
              "      <td>2.360000</td>\n",
              "      <td>19.500000</td>\n",
              "      <td>98.000000</td>\n",
              "      <td>2.355000</td>\n",
              "      <td>2.135000</td>\n",
              "      <td>0.340000</td>\n",
              "      <td>1.555000</td>\n",
              "      <td>4.690000</td>\n",
              "      <td>0.965000</td>\n",
              "      <td>2.780000</td>\n",
              "      <td>673.500000</td>\n",
              "      <td>2.000000</td>\n",
              "    </tr>\n",
              "    <tr>\n",
              "      <th>75%</th>\n",
              "      <td>13.677500</td>\n",
              "      <td>3.082500</td>\n",
              "      <td>2.557500</td>\n",
              "      <td>21.500000</td>\n",
              "      <td>107.000000</td>\n",
              "      <td>2.800000</td>\n",
              "      <td>2.875000</td>\n",
              "      <td>0.437500</td>\n",
              "      <td>1.950000</td>\n",
              "      <td>6.200000</td>\n",
              "      <td>1.120000</td>\n",
              "      <td>3.170000</td>\n",
              "      <td>985.000000</td>\n",
              "      <td>3.000000</td>\n",
              "    </tr>\n",
              "    <tr>\n",
              "      <th>max</th>\n",
              "      <td>14.830000</td>\n",
              "      <td>5.800000</td>\n",
              "      <td>3.230000</td>\n",
              "      <td>30.000000</td>\n",
              "      <td>162.000000</td>\n",
              "      <td>3.880000</td>\n",
              "      <td>5.080000</td>\n",
              "      <td>0.660000</td>\n",
              "      <td>3.580000</td>\n",
              "      <td>13.000000</td>\n",
              "      <td>1.710000</td>\n",
              "      <td>4.000000</td>\n",
              "      <td>1680.000000</td>\n",
              "      <td>3.000000</td>\n",
              "    </tr>\n",
              "  </tbody>\n",
              "</table>\n",
              "</div>"
            ],
            "text/plain": [
              "          Alcohol  Malic_Acid  ...      Proline  Customer_Segment\n",
              "count  178.000000  178.000000  ...   178.000000        178.000000\n",
              "mean    13.000618    2.336348  ...   746.893258          1.938202\n",
              "std      0.811827    1.117146  ...   314.907474          0.775035\n",
              "min     11.030000    0.740000  ...   278.000000          1.000000\n",
              "25%     12.362500    1.602500  ...   500.500000          1.000000\n",
              "50%     13.050000    1.865000  ...   673.500000          2.000000\n",
              "75%     13.677500    3.082500  ...   985.000000          3.000000\n",
              "max     14.830000    5.800000  ...  1680.000000          3.000000\n",
              "\n",
              "[8 rows x 14 columns]"
            ]
          },
          "metadata": {
            "tags": []
          },
          "execution_count": 19
        }
      ]
    },
    {
      "cell_type": "code",
      "metadata": {
        "colab": {
          "base_uri": "https://localhost:8080/"
        },
        "id": "fvY15c6aSsjX",
        "outputId": "8e665813-31ea-4dde-8c02-108897907158"
      },
      "source": [
        "atributos = dados.columns\n",
        "atributos"
      ],
      "execution_count": null,
      "outputs": [
        {
          "output_type": "execute_result",
          "data": {
            "text/plain": [
              "Index(['Alcohol', 'Malic_Acid', 'Ash', 'Ash_Alcanity', 'Magnesium',\n",
              "       'Total_Phenols', 'Flavanoids', 'Nonflavanoid_Phenols',\n",
              "       'Proanthocyanins', 'Color_Intensity', 'Hue', 'OD280', 'Proline',\n",
              "       'Customer_Segment'],\n",
              "      dtype='object')"
            ]
          },
          "metadata": {
            "tags": []
          },
          "execution_count": 21
        }
      ]
    },
    {
      "cell_type": "markdown",
      "metadata": {
        "id": "vM3hHa6LUEld"
      },
      "source": [
        "MinMaxScaler"
      ]
    },
    {
      "cell_type": "markdown",
      "metadata": {
        "id": "jDYL73sVT-Hd"
      },
      "source": [
        "https://scikit-learn.org/stable/modules/generated/sklearn.preprocessing.MinMaxScaler.html"
      ]
    },
    {
      "cell_type": "code",
      "metadata": {
        "id": "y8PvanjRS3Tu"
      },
      "source": [
        "for atributo in atributos:\n",
        "  dados[atributo] = (dados[atributo]-min(dados[atributo])) / (max(dados[atributo]) - min(dados[atributo])) "
      ],
      "execution_count": null,
      "outputs": []
    },
    {
      "cell_type": "code",
      "metadata": {
        "colab": {
          "base_uri": "https://localhost:8080/",
          "height": 222
        },
        "id": "Gfd50sb5TtiH",
        "outputId": "5c618ef9-4465-4672-a41e-b0ea10a8bead"
      },
      "source": [
        "dados.head()"
      ],
      "execution_count": null,
      "outputs": [
        {
          "output_type": "execute_result",
          "data": {
            "text/html": [
              "<div>\n",
              "<style scoped>\n",
              "    .dataframe tbody tr th:only-of-type {\n",
              "        vertical-align: middle;\n",
              "    }\n",
              "\n",
              "    .dataframe tbody tr th {\n",
              "        vertical-align: top;\n",
              "    }\n",
              "\n",
              "    .dataframe thead th {\n",
              "        text-align: right;\n",
              "    }\n",
              "</style>\n",
              "<table border=\"1\" class=\"dataframe\">\n",
              "  <thead>\n",
              "    <tr style=\"text-align: right;\">\n",
              "      <th></th>\n",
              "      <th>Alcohol</th>\n",
              "      <th>Malic_Acid</th>\n",
              "      <th>Ash</th>\n",
              "      <th>Ash_Alcanity</th>\n",
              "      <th>Magnesium</th>\n",
              "      <th>Total_Phenols</th>\n",
              "      <th>Flavanoids</th>\n",
              "      <th>Nonflavanoid_Phenols</th>\n",
              "      <th>Proanthocyanins</th>\n",
              "      <th>Color_Intensity</th>\n",
              "      <th>Hue</th>\n",
              "      <th>OD280</th>\n",
              "      <th>Proline</th>\n",
              "      <th>Customer_Segment</th>\n",
              "    </tr>\n",
              "  </thead>\n",
              "  <tbody>\n",
              "    <tr>\n",
              "      <th>0</th>\n",
              "      <td>0.842105</td>\n",
              "      <td>0.191700</td>\n",
              "      <td>0.572193</td>\n",
              "      <td>0.257732</td>\n",
              "      <td>0.619565</td>\n",
              "      <td>0.627586</td>\n",
              "      <td>0.573840</td>\n",
              "      <td>0.283019</td>\n",
              "      <td>0.593060</td>\n",
              "      <td>0.372014</td>\n",
              "      <td>0.455285</td>\n",
              "      <td>0.970696</td>\n",
              "      <td>0.561341</td>\n",
              "      <td>0.0</td>\n",
              "    </tr>\n",
              "    <tr>\n",
              "      <th>1</th>\n",
              "      <td>0.571053</td>\n",
              "      <td>0.205534</td>\n",
              "      <td>0.417112</td>\n",
              "      <td>0.030928</td>\n",
              "      <td>0.326087</td>\n",
              "      <td>0.575862</td>\n",
              "      <td>0.510549</td>\n",
              "      <td>0.245283</td>\n",
              "      <td>0.274448</td>\n",
              "      <td>0.264505</td>\n",
              "      <td>0.463415</td>\n",
              "      <td>0.780220</td>\n",
              "      <td>0.550642</td>\n",
              "      <td>0.0</td>\n",
              "    </tr>\n",
              "    <tr>\n",
              "      <th>2</th>\n",
              "      <td>0.560526</td>\n",
              "      <td>0.320158</td>\n",
              "      <td>0.700535</td>\n",
              "      <td>0.412371</td>\n",
              "      <td>0.336957</td>\n",
              "      <td>0.627586</td>\n",
              "      <td>0.611814</td>\n",
              "      <td>0.320755</td>\n",
              "      <td>0.757098</td>\n",
              "      <td>0.375427</td>\n",
              "      <td>0.447154</td>\n",
              "      <td>0.695971</td>\n",
              "      <td>0.646933</td>\n",
              "      <td>0.0</td>\n",
              "    </tr>\n",
              "    <tr>\n",
              "      <th>3</th>\n",
              "      <td>0.878947</td>\n",
              "      <td>0.239130</td>\n",
              "      <td>0.609626</td>\n",
              "      <td>0.319588</td>\n",
              "      <td>0.467391</td>\n",
              "      <td>0.989655</td>\n",
              "      <td>0.664557</td>\n",
              "      <td>0.207547</td>\n",
              "      <td>0.558360</td>\n",
              "      <td>0.556314</td>\n",
              "      <td>0.308943</td>\n",
              "      <td>0.798535</td>\n",
              "      <td>0.857347</td>\n",
              "      <td>0.0</td>\n",
              "    </tr>\n",
              "    <tr>\n",
              "      <th>4</th>\n",
              "      <td>0.581579</td>\n",
              "      <td>0.365613</td>\n",
              "      <td>0.807487</td>\n",
              "      <td>0.536082</td>\n",
              "      <td>0.521739</td>\n",
              "      <td>0.627586</td>\n",
              "      <td>0.495781</td>\n",
              "      <td>0.490566</td>\n",
              "      <td>0.444795</td>\n",
              "      <td>0.259386</td>\n",
              "      <td>0.455285</td>\n",
              "      <td>0.608059</td>\n",
              "      <td>0.325963</td>\n",
              "      <td>0.0</td>\n",
              "    </tr>\n",
              "  </tbody>\n",
              "</table>\n",
              "</div>"
            ],
            "text/plain": [
              "    Alcohol  Malic_Acid       Ash  ...     OD280   Proline  Customer_Segment\n",
              "0  0.842105    0.191700  0.572193  ...  0.970696  0.561341               0.0\n",
              "1  0.571053    0.205534  0.417112  ...  0.780220  0.550642               0.0\n",
              "2  0.560526    0.320158  0.700535  ...  0.695971  0.646933               0.0\n",
              "3  0.878947    0.239130  0.609626  ...  0.798535  0.857347               0.0\n",
              "4  0.581579    0.365613  0.807487  ...  0.608059  0.325963               0.0\n",
              "\n",
              "[5 rows x 14 columns]"
            ]
          },
          "metadata": {
            "tags": []
          },
          "execution_count": 24
        }
      ]
    },
    {
      "cell_type": "code",
      "metadata": {
        "colab": {
          "base_uri": "https://localhost:8080/",
          "height": 314
        },
        "id": "J6iZ9wMuT2Ku",
        "outputId": "7cbaba64-5a9c-495d-9d99-8b1a8d93c7a0"
      },
      "source": [
        "dados.describe()"
      ],
      "execution_count": null,
      "outputs": [
        {
          "output_type": "execute_result",
          "data": {
            "text/html": [
              "<div>\n",
              "<style scoped>\n",
              "    .dataframe tbody tr th:only-of-type {\n",
              "        vertical-align: middle;\n",
              "    }\n",
              "\n",
              "    .dataframe tbody tr th {\n",
              "        vertical-align: top;\n",
              "    }\n",
              "\n",
              "    .dataframe thead th {\n",
              "        text-align: right;\n",
              "    }\n",
              "</style>\n",
              "<table border=\"1\" class=\"dataframe\">\n",
              "  <thead>\n",
              "    <tr style=\"text-align: right;\">\n",
              "      <th></th>\n",
              "      <th>Alcohol</th>\n",
              "      <th>Malic_Acid</th>\n",
              "      <th>Ash</th>\n",
              "      <th>Ash_Alcanity</th>\n",
              "      <th>Magnesium</th>\n",
              "      <th>Total_Phenols</th>\n",
              "      <th>Flavanoids</th>\n",
              "      <th>Nonflavanoid_Phenols</th>\n",
              "      <th>Proanthocyanins</th>\n",
              "      <th>Color_Intensity</th>\n",
              "      <th>Hue</th>\n",
              "      <th>OD280</th>\n",
              "      <th>Proline</th>\n",
              "      <th>Customer_Segment</th>\n",
              "    </tr>\n",
              "  </thead>\n",
              "  <tbody>\n",
              "    <tr>\n",
              "      <th>count</th>\n",
              "      <td>178.000000</td>\n",
              "      <td>178.000000</td>\n",
              "      <td>178.000000</td>\n",
              "      <td>178.000000</td>\n",
              "      <td>178.000000</td>\n",
              "      <td>178.000000</td>\n",
              "      <td>178.000000</td>\n",
              "      <td>178.000000</td>\n",
              "      <td>178.000000</td>\n",
              "      <td>178.000000</td>\n",
              "      <td>178.000000</td>\n",
              "      <td>178.000000</td>\n",
              "      <td>178.000000</td>\n",
              "      <td>178.000000</td>\n",
              "    </tr>\n",
              "    <tr>\n",
              "      <th>mean</th>\n",
              "      <td>0.518584</td>\n",
              "      <td>0.315484</td>\n",
              "      <td>0.538244</td>\n",
              "      <td>0.458502</td>\n",
              "      <td>0.323278</td>\n",
              "      <td>0.453487</td>\n",
              "      <td>0.356386</td>\n",
              "      <td>0.437460</td>\n",
              "      <td>0.372523</td>\n",
              "      <td>0.322363</td>\n",
              "      <td>0.388170</td>\n",
              "      <td>0.491460</td>\n",
              "      <td>0.334446</td>\n",
              "      <td>0.469101</td>\n",
              "    </tr>\n",
              "    <tr>\n",
              "      <th>std</th>\n",
              "      <td>0.213639</td>\n",
              "      <td>0.220780</td>\n",
              "      <td>0.146708</td>\n",
              "      <td>0.172142</td>\n",
              "      <td>0.155244</td>\n",
              "      <td>0.215811</td>\n",
              "      <td>0.210730</td>\n",
              "      <td>0.234818</td>\n",
              "      <td>0.180555</td>\n",
              "      <td>0.197806</td>\n",
              "      <td>0.185831</td>\n",
              "      <td>0.260070</td>\n",
              "      <td>0.224613</td>\n",
              "      <td>0.387517</td>\n",
              "    </tr>\n",
              "    <tr>\n",
              "      <th>min</th>\n",
              "      <td>0.000000</td>\n",
              "      <td>0.000000</td>\n",
              "      <td>0.000000</td>\n",
              "      <td>0.000000</td>\n",
              "      <td>0.000000</td>\n",
              "      <td>0.000000</td>\n",
              "      <td>0.000000</td>\n",
              "      <td>0.000000</td>\n",
              "      <td>0.000000</td>\n",
              "      <td>0.000000</td>\n",
              "      <td>0.000000</td>\n",
              "      <td>0.000000</td>\n",
              "      <td>0.000000</td>\n",
              "      <td>0.000000</td>\n",
              "    </tr>\n",
              "    <tr>\n",
              "      <th>25%</th>\n",
              "      <td>0.350658</td>\n",
              "      <td>0.170455</td>\n",
              "      <td>0.454545</td>\n",
              "      <td>0.340206</td>\n",
              "      <td>0.195652</td>\n",
              "      <td>0.262931</td>\n",
              "      <td>0.182489</td>\n",
              "      <td>0.264151</td>\n",
              "      <td>0.264984</td>\n",
              "      <td>0.165529</td>\n",
              "      <td>0.245935</td>\n",
              "      <td>0.244505</td>\n",
              "      <td>0.158702</td>\n",
              "      <td>0.000000</td>\n",
              "    </tr>\n",
              "    <tr>\n",
              "      <th>50%</th>\n",
              "      <td>0.531579</td>\n",
              "      <td>0.222332</td>\n",
              "      <td>0.534759</td>\n",
              "      <td>0.458763</td>\n",
              "      <td>0.304348</td>\n",
              "      <td>0.474138</td>\n",
              "      <td>0.378692</td>\n",
              "      <td>0.396226</td>\n",
              "      <td>0.361199</td>\n",
              "      <td>0.290956</td>\n",
              "      <td>0.394309</td>\n",
              "      <td>0.553114</td>\n",
              "      <td>0.282097</td>\n",
              "      <td>0.500000</td>\n",
              "    </tr>\n",
              "    <tr>\n",
              "      <th>75%</th>\n",
              "      <td>0.696711</td>\n",
              "      <td>0.462945</td>\n",
              "      <td>0.640374</td>\n",
              "      <td>0.561856</td>\n",
              "      <td>0.402174</td>\n",
              "      <td>0.627586</td>\n",
              "      <td>0.534810</td>\n",
              "      <td>0.580189</td>\n",
              "      <td>0.485804</td>\n",
              "      <td>0.419795</td>\n",
              "      <td>0.520325</td>\n",
              "      <td>0.695971</td>\n",
              "      <td>0.504280</td>\n",
              "      <td>1.000000</td>\n",
              "    </tr>\n",
              "    <tr>\n",
              "      <th>max</th>\n",
              "      <td>1.000000</td>\n",
              "      <td>1.000000</td>\n",
              "      <td>1.000000</td>\n",
              "      <td>1.000000</td>\n",
              "      <td>1.000000</td>\n",
              "      <td>1.000000</td>\n",
              "      <td>1.000000</td>\n",
              "      <td>1.000000</td>\n",
              "      <td>1.000000</td>\n",
              "      <td>1.000000</td>\n",
              "      <td>1.000000</td>\n",
              "      <td>1.000000</td>\n",
              "      <td>1.000000</td>\n",
              "      <td>1.000000</td>\n",
              "    </tr>\n",
              "  </tbody>\n",
              "</table>\n",
              "</div>"
            ],
            "text/plain": [
              "          Alcohol  Malic_Acid  ...     Proline  Customer_Segment\n",
              "count  178.000000  178.000000  ...  178.000000        178.000000\n",
              "mean     0.518584    0.315484  ...    0.334446          0.469101\n",
              "std      0.213639    0.220780  ...    0.224613          0.387517\n",
              "min      0.000000    0.000000  ...    0.000000          0.000000\n",
              "25%      0.350658    0.170455  ...    0.158702          0.000000\n",
              "50%      0.531579    0.222332  ...    0.282097          0.500000\n",
              "75%      0.696711    0.462945  ...    0.504280          1.000000\n",
              "max      1.000000    1.000000  ...    1.000000          1.000000\n",
              "\n",
              "[8 rows x 14 columns]"
            ]
          },
          "metadata": {
            "tags": []
          },
          "execution_count": 25
        }
      ]
    },
    {
      "cell_type": "markdown",
      "metadata": {
        "id": "Q8BGdY8bUTHH"
      },
      "source": [
        "**Normalização Sklearn**"
      ]
    },
    {
      "cell_type": "code",
      "metadata": {
        "id": "UwVxWssxUU7Z"
      },
      "source": [
        "from sklearn import preprocessing"
      ],
      "execution_count": null,
      "outputs": []
    },
    {
      "cell_type": "code",
      "metadata": {
        "id": "yn1dAId6Vw19"
      },
      "source": [
        "min_max_scaler = preprocessing.MinMaxScaler()\n",
        "np_df = min_max_scaler.fit_transform(dados)"
      ],
      "execution_count": null,
      "outputs": []
    },
    {
      "cell_type": "code",
      "metadata": {
        "id": "8T1XGto5U7o4"
      },
      "source": [
        "df = pd.DataFrame(np_df, columns= dados.columns)"
      ],
      "execution_count": null,
      "outputs": []
    },
    {
      "cell_type": "code",
      "metadata": {
        "colab": {
          "base_uri": "https://localhost:8080/",
          "height": 314
        },
        "id": "_UJOfXSfVYy3",
        "outputId": "6283ee62-6bce-405c-aa11-b67fdb57c725"
      },
      "source": [
        "df.describe()"
      ],
      "execution_count": null,
      "outputs": [
        {
          "output_type": "execute_result",
          "data": {
            "text/html": [
              "<div>\n",
              "<style scoped>\n",
              "    .dataframe tbody tr th:only-of-type {\n",
              "        vertical-align: middle;\n",
              "    }\n",
              "\n",
              "    .dataframe tbody tr th {\n",
              "        vertical-align: top;\n",
              "    }\n",
              "\n",
              "    .dataframe thead th {\n",
              "        text-align: right;\n",
              "    }\n",
              "</style>\n",
              "<table border=\"1\" class=\"dataframe\">\n",
              "  <thead>\n",
              "    <tr style=\"text-align: right;\">\n",
              "      <th></th>\n",
              "      <th>Alcohol</th>\n",
              "      <th>Malic_Acid</th>\n",
              "      <th>Ash</th>\n",
              "      <th>Ash_Alcanity</th>\n",
              "      <th>Magnesium</th>\n",
              "      <th>Total_Phenols</th>\n",
              "      <th>Flavanoids</th>\n",
              "      <th>Nonflavanoid_Phenols</th>\n",
              "      <th>Proanthocyanins</th>\n",
              "      <th>Color_Intensity</th>\n",
              "      <th>Hue</th>\n",
              "      <th>OD280</th>\n",
              "      <th>Proline</th>\n",
              "      <th>Customer_Segment</th>\n",
              "    </tr>\n",
              "  </thead>\n",
              "  <tbody>\n",
              "    <tr>\n",
              "      <th>count</th>\n",
              "      <td>178.000000</td>\n",
              "      <td>178.000000</td>\n",
              "      <td>178.000000</td>\n",
              "      <td>178.000000</td>\n",
              "      <td>178.000000</td>\n",
              "      <td>178.000000</td>\n",
              "      <td>178.000000</td>\n",
              "      <td>178.000000</td>\n",
              "      <td>178.000000</td>\n",
              "      <td>178.000000</td>\n",
              "      <td>178.000000</td>\n",
              "      <td>178.000000</td>\n",
              "      <td>178.000000</td>\n",
              "      <td>178.000000</td>\n",
              "    </tr>\n",
              "    <tr>\n",
              "      <th>mean</th>\n",
              "      <td>0.518584</td>\n",
              "      <td>0.315484</td>\n",
              "      <td>0.538244</td>\n",
              "      <td>0.458502</td>\n",
              "      <td>0.323278</td>\n",
              "      <td>0.453487</td>\n",
              "      <td>0.356386</td>\n",
              "      <td>0.437460</td>\n",
              "      <td>0.372523</td>\n",
              "      <td>0.322363</td>\n",
              "      <td>0.388170</td>\n",
              "      <td>0.491460</td>\n",
              "      <td>0.334446</td>\n",
              "      <td>0.469101</td>\n",
              "    </tr>\n",
              "    <tr>\n",
              "      <th>std</th>\n",
              "      <td>0.213639</td>\n",
              "      <td>0.220780</td>\n",
              "      <td>0.146708</td>\n",
              "      <td>0.172142</td>\n",
              "      <td>0.155244</td>\n",
              "      <td>0.215811</td>\n",
              "      <td>0.210730</td>\n",
              "      <td>0.234818</td>\n",
              "      <td>0.180555</td>\n",
              "      <td>0.197806</td>\n",
              "      <td>0.185831</td>\n",
              "      <td>0.260070</td>\n",
              "      <td>0.224613</td>\n",
              "      <td>0.387517</td>\n",
              "    </tr>\n",
              "    <tr>\n",
              "      <th>min</th>\n",
              "      <td>0.000000</td>\n",
              "      <td>0.000000</td>\n",
              "      <td>0.000000</td>\n",
              "      <td>0.000000</td>\n",
              "      <td>0.000000</td>\n",
              "      <td>0.000000</td>\n",
              "      <td>0.000000</td>\n",
              "      <td>0.000000</td>\n",
              "      <td>0.000000</td>\n",
              "      <td>0.000000</td>\n",
              "      <td>0.000000</td>\n",
              "      <td>0.000000</td>\n",
              "      <td>0.000000</td>\n",
              "      <td>0.000000</td>\n",
              "    </tr>\n",
              "    <tr>\n",
              "      <th>25%</th>\n",
              "      <td>0.350658</td>\n",
              "      <td>0.170455</td>\n",
              "      <td>0.454545</td>\n",
              "      <td>0.340206</td>\n",
              "      <td>0.195652</td>\n",
              "      <td>0.262931</td>\n",
              "      <td>0.182489</td>\n",
              "      <td>0.264151</td>\n",
              "      <td>0.264984</td>\n",
              "      <td>0.165529</td>\n",
              "      <td>0.245935</td>\n",
              "      <td>0.244505</td>\n",
              "      <td>0.158702</td>\n",
              "      <td>0.000000</td>\n",
              "    </tr>\n",
              "    <tr>\n",
              "      <th>50%</th>\n",
              "      <td>0.531579</td>\n",
              "      <td>0.222332</td>\n",
              "      <td>0.534759</td>\n",
              "      <td>0.458763</td>\n",
              "      <td>0.304348</td>\n",
              "      <td>0.474138</td>\n",
              "      <td>0.378692</td>\n",
              "      <td>0.396226</td>\n",
              "      <td>0.361199</td>\n",
              "      <td>0.290956</td>\n",
              "      <td>0.394309</td>\n",
              "      <td>0.553114</td>\n",
              "      <td>0.282097</td>\n",
              "      <td>0.500000</td>\n",
              "    </tr>\n",
              "    <tr>\n",
              "      <th>75%</th>\n",
              "      <td>0.696711</td>\n",
              "      <td>0.462945</td>\n",
              "      <td>0.640374</td>\n",
              "      <td>0.561856</td>\n",
              "      <td>0.402174</td>\n",
              "      <td>0.627586</td>\n",
              "      <td>0.534810</td>\n",
              "      <td>0.580189</td>\n",
              "      <td>0.485804</td>\n",
              "      <td>0.419795</td>\n",
              "      <td>0.520325</td>\n",
              "      <td>0.695971</td>\n",
              "      <td>0.504280</td>\n",
              "      <td>1.000000</td>\n",
              "    </tr>\n",
              "    <tr>\n",
              "      <th>max</th>\n",
              "      <td>1.000000</td>\n",
              "      <td>1.000000</td>\n",
              "      <td>1.000000</td>\n",
              "      <td>1.000000</td>\n",
              "      <td>1.000000</td>\n",
              "      <td>1.000000</td>\n",
              "      <td>1.000000</td>\n",
              "      <td>1.000000</td>\n",
              "      <td>1.000000</td>\n",
              "      <td>1.000000</td>\n",
              "      <td>1.000000</td>\n",
              "      <td>1.000000</td>\n",
              "      <td>1.000000</td>\n",
              "      <td>1.000000</td>\n",
              "    </tr>\n",
              "  </tbody>\n",
              "</table>\n",
              "</div>"
            ],
            "text/plain": [
              "          Alcohol  Malic_Acid  ...     Proline  Customer_Segment\n",
              "count  178.000000  178.000000  ...  178.000000        178.000000\n",
              "mean     0.518584    0.315484  ...    0.334446          0.469101\n",
              "std      0.213639    0.220780  ...    0.224613          0.387517\n",
              "min      0.000000    0.000000  ...    0.000000          0.000000\n",
              "25%      0.350658    0.170455  ...    0.158702          0.000000\n",
              "50%      0.531579    0.222332  ...    0.282097          0.500000\n",
              "75%      0.696711    0.462945  ...    0.504280          1.000000\n",
              "max      1.000000    1.000000  ...    1.000000          1.000000\n",
              "\n",
              "[8 rows x 14 columns]"
            ]
          },
          "metadata": {
            "tags": []
          },
          "execution_count": 36
        }
      ]
    },
    {
      "cell_type": "code",
      "metadata": {
        "colab": {
          "base_uri": "https://localhost:8080/",
          "height": 239
        },
        "id": "JD-aaZGOWfuJ",
        "outputId": "0dfd693f-3f1a-4f85-db8f-e5f60cf5c177"
      },
      "source": [
        "df = pd.read_csv(\"https://raw.githubusercontent.com/alura-cursos/Clustering/Aula4-Introdu%C3%A7%C3%A3o-ao-Mean-shift/Wine.csv\")\n",
        "print(f\"O dado possui {df.shape[0]} amostras e {df.shape[1]} atributos\")\n",
        "df.head()"
      ],
      "execution_count": null,
      "outputs": [
        {
          "output_type": "stream",
          "text": [
            "O dado possui 178 amostras e 14 atributos\n"
          ],
          "name": "stdout"
        },
        {
          "output_type": "execute_result",
          "data": {
            "text/html": [
              "<div>\n",
              "<style scoped>\n",
              "    .dataframe tbody tr th:only-of-type {\n",
              "        vertical-align: middle;\n",
              "    }\n",
              "\n",
              "    .dataframe tbody tr th {\n",
              "        vertical-align: top;\n",
              "    }\n",
              "\n",
              "    .dataframe thead th {\n",
              "        text-align: right;\n",
              "    }\n",
              "</style>\n",
              "<table border=\"1\" class=\"dataframe\">\n",
              "  <thead>\n",
              "    <tr style=\"text-align: right;\">\n",
              "      <th></th>\n",
              "      <th>Alcohol</th>\n",
              "      <th>Malic_Acid</th>\n",
              "      <th>Ash</th>\n",
              "      <th>Ash_Alcanity</th>\n",
              "      <th>Magnesium</th>\n",
              "      <th>Total_Phenols</th>\n",
              "      <th>Flavanoids</th>\n",
              "      <th>Nonflavanoid_Phenols</th>\n",
              "      <th>Proanthocyanins</th>\n",
              "      <th>Color_Intensity</th>\n",
              "      <th>Hue</th>\n",
              "      <th>OD280</th>\n",
              "      <th>Proline</th>\n",
              "      <th>Customer_Segment</th>\n",
              "    </tr>\n",
              "  </thead>\n",
              "  <tbody>\n",
              "    <tr>\n",
              "      <th>0</th>\n",
              "      <td>14.23</td>\n",
              "      <td>1.71</td>\n",
              "      <td>2.43</td>\n",
              "      <td>15.6</td>\n",
              "      <td>127</td>\n",
              "      <td>2.80</td>\n",
              "      <td>3.06</td>\n",
              "      <td>0.28</td>\n",
              "      <td>2.29</td>\n",
              "      <td>5.64</td>\n",
              "      <td>1.04</td>\n",
              "      <td>3.92</td>\n",
              "      <td>1065</td>\n",
              "      <td>1</td>\n",
              "    </tr>\n",
              "    <tr>\n",
              "      <th>1</th>\n",
              "      <td>13.20</td>\n",
              "      <td>1.78</td>\n",
              "      <td>2.14</td>\n",
              "      <td>11.2</td>\n",
              "      <td>100</td>\n",
              "      <td>2.65</td>\n",
              "      <td>2.76</td>\n",
              "      <td>0.26</td>\n",
              "      <td>1.28</td>\n",
              "      <td>4.38</td>\n",
              "      <td>1.05</td>\n",
              "      <td>3.40</td>\n",
              "      <td>1050</td>\n",
              "      <td>1</td>\n",
              "    </tr>\n",
              "    <tr>\n",
              "      <th>2</th>\n",
              "      <td>13.16</td>\n",
              "      <td>2.36</td>\n",
              "      <td>2.67</td>\n",
              "      <td>18.6</td>\n",
              "      <td>101</td>\n",
              "      <td>2.80</td>\n",
              "      <td>3.24</td>\n",
              "      <td>0.30</td>\n",
              "      <td>2.81</td>\n",
              "      <td>5.68</td>\n",
              "      <td>1.03</td>\n",
              "      <td>3.17</td>\n",
              "      <td>1185</td>\n",
              "      <td>1</td>\n",
              "    </tr>\n",
              "    <tr>\n",
              "      <th>3</th>\n",
              "      <td>14.37</td>\n",
              "      <td>1.95</td>\n",
              "      <td>2.50</td>\n",
              "      <td>16.8</td>\n",
              "      <td>113</td>\n",
              "      <td>3.85</td>\n",
              "      <td>3.49</td>\n",
              "      <td>0.24</td>\n",
              "      <td>2.18</td>\n",
              "      <td>7.80</td>\n",
              "      <td>0.86</td>\n",
              "      <td>3.45</td>\n",
              "      <td>1480</td>\n",
              "      <td>1</td>\n",
              "    </tr>\n",
              "    <tr>\n",
              "      <th>4</th>\n",
              "      <td>13.24</td>\n",
              "      <td>2.59</td>\n",
              "      <td>2.87</td>\n",
              "      <td>21.0</td>\n",
              "      <td>118</td>\n",
              "      <td>2.80</td>\n",
              "      <td>2.69</td>\n",
              "      <td>0.39</td>\n",
              "      <td>1.82</td>\n",
              "      <td>4.32</td>\n",
              "      <td>1.04</td>\n",
              "      <td>2.93</td>\n",
              "      <td>735</td>\n",
              "      <td>1</td>\n",
              "    </tr>\n",
              "  </tbody>\n",
              "</table>\n",
              "</div>"
            ],
            "text/plain": [
              "   Alcohol  Malic_Acid   Ash  ...  OD280  Proline  Customer_Segment\n",
              "0    14.23        1.71  2.43  ...   3.92     1065                 1\n",
              "1    13.20        1.78  2.14  ...   3.40     1050                 1\n",
              "2    13.16        2.36  2.67  ...   3.17     1185                 1\n",
              "3    14.37        1.95  2.50  ...   3.45     1480                 1\n",
              "4    13.24        2.59  2.87  ...   2.93      735                 1\n",
              "\n",
              "[5 rows x 14 columns]"
            ]
          },
          "metadata": {
            "tags": []
          },
          "execution_count": 47
        }
      ]
    },
    {
      "cell_type": "markdown",
      "metadata": {
        "id": "-keZimmfZu7r"
      },
      "source": [
        ""
      ]
    },
    {
      "cell_type": "code",
      "metadata": {
        "colab": {
          "base_uri": "https://localhost:8080/",
          "height": 314
        },
        "id": "LkSnRiGVXD_e",
        "outputId": "78571c88-83ed-4fa8-c69f-5cb4b1caa778"
      },
      "source": [
        "df.describe()"
      ],
      "execution_count": null,
      "outputs": [
        {
          "output_type": "execute_result",
          "data": {
            "text/html": [
              "<div>\n",
              "<style scoped>\n",
              "    .dataframe tbody tr th:only-of-type {\n",
              "        vertical-align: middle;\n",
              "    }\n",
              "\n",
              "    .dataframe tbody tr th {\n",
              "        vertical-align: top;\n",
              "    }\n",
              "\n",
              "    .dataframe thead th {\n",
              "        text-align: right;\n",
              "    }\n",
              "</style>\n",
              "<table border=\"1\" class=\"dataframe\">\n",
              "  <thead>\n",
              "    <tr style=\"text-align: right;\">\n",
              "      <th></th>\n",
              "      <th>Alcohol</th>\n",
              "      <th>Malic_Acid</th>\n",
              "      <th>Ash</th>\n",
              "      <th>Ash_Alcanity</th>\n",
              "      <th>Magnesium</th>\n",
              "      <th>Total_Phenols</th>\n",
              "      <th>Flavanoids</th>\n",
              "      <th>Nonflavanoid_Phenols</th>\n",
              "      <th>Proanthocyanins</th>\n",
              "      <th>Color_Intensity</th>\n",
              "      <th>Hue</th>\n",
              "      <th>OD280</th>\n",
              "      <th>Proline</th>\n",
              "      <th>Customer_Segment</th>\n",
              "    </tr>\n",
              "  </thead>\n",
              "  <tbody>\n",
              "    <tr>\n",
              "      <th>count</th>\n",
              "      <td>178.000000</td>\n",
              "      <td>178.000000</td>\n",
              "      <td>178.000000</td>\n",
              "      <td>178.000000</td>\n",
              "      <td>178.000000</td>\n",
              "      <td>178.000000</td>\n",
              "      <td>178.000000</td>\n",
              "      <td>178.000000</td>\n",
              "      <td>178.000000</td>\n",
              "      <td>178.000000</td>\n",
              "      <td>178.000000</td>\n",
              "      <td>178.000000</td>\n",
              "      <td>178.000000</td>\n",
              "      <td>178.000000</td>\n",
              "    </tr>\n",
              "    <tr>\n",
              "      <th>mean</th>\n",
              "      <td>13.000618</td>\n",
              "      <td>2.336348</td>\n",
              "      <td>2.366517</td>\n",
              "      <td>19.494944</td>\n",
              "      <td>99.741573</td>\n",
              "      <td>2.295112</td>\n",
              "      <td>2.029270</td>\n",
              "      <td>0.361854</td>\n",
              "      <td>1.590899</td>\n",
              "      <td>5.058090</td>\n",
              "      <td>0.957449</td>\n",
              "      <td>2.611685</td>\n",
              "      <td>746.893258</td>\n",
              "      <td>1.938202</td>\n",
              "    </tr>\n",
              "    <tr>\n",
              "      <th>std</th>\n",
              "      <td>0.811827</td>\n",
              "      <td>1.117146</td>\n",
              "      <td>0.274344</td>\n",
              "      <td>3.339564</td>\n",
              "      <td>14.282484</td>\n",
              "      <td>0.625851</td>\n",
              "      <td>0.998859</td>\n",
              "      <td>0.124453</td>\n",
              "      <td>0.572359</td>\n",
              "      <td>2.318286</td>\n",
              "      <td>0.228572</td>\n",
              "      <td>0.709990</td>\n",
              "      <td>314.907474</td>\n",
              "      <td>0.775035</td>\n",
              "    </tr>\n",
              "    <tr>\n",
              "      <th>min</th>\n",
              "      <td>11.030000</td>\n",
              "      <td>0.740000</td>\n",
              "      <td>1.360000</td>\n",
              "      <td>10.600000</td>\n",
              "      <td>70.000000</td>\n",
              "      <td>0.980000</td>\n",
              "      <td>0.340000</td>\n",
              "      <td>0.130000</td>\n",
              "      <td>0.410000</td>\n",
              "      <td>1.280000</td>\n",
              "      <td>0.480000</td>\n",
              "      <td>1.270000</td>\n",
              "      <td>278.000000</td>\n",
              "      <td>1.000000</td>\n",
              "    </tr>\n",
              "    <tr>\n",
              "      <th>25%</th>\n",
              "      <td>12.362500</td>\n",
              "      <td>1.602500</td>\n",
              "      <td>2.210000</td>\n",
              "      <td>17.200000</td>\n",
              "      <td>88.000000</td>\n",
              "      <td>1.742500</td>\n",
              "      <td>1.205000</td>\n",
              "      <td>0.270000</td>\n",
              "      <td>1.250000</td>\n",
              "      <td>3.220000</td>\n",
              "      <td>0.782500</td>\n",
              "      <td>1.937500</td>\n",
              "      <td>500.500000</td>\n",
              "      <td>1.000000</td>\n",
              "    </tr>\n",
              "    <tr>\n",
              "      <th>50%</th>\n",
              "      <td>13.050000</td>\n",
              "      <td>1.865000</td>\n",
              "      <td>2.360000</td>\n",
              "      <td>19.500000</td>\n",
              "      <td>98.000000</td>\n",
              "      <td>2.355000</td>\n",
              "      <td>2.135000</td>\n",
              "      <td>0.340000</td>\n",
              "      <td>1.555000</td>\n",
              "      <td>4.690000</td>\n",
              "      <td>0.965000</td>\n",
              "      <td>2.780000</td>\n",
              "      <td>673.500000</td>\n",
              "      <td>2.000000</td>\n",
              "    </tr>\n",
              "    <tr>\n",
              "      <th>75%</th>\n",
              "      <td>13.677500</td>\n",
              "      <td>3.082500</td>\n",
              "      <td>2.557500</td>\n",
              "      <td>21.500000</td>\n",
              "      <td>107.000000</td>\n",
              "      <td>2.800000</td>\n",
              "      <td>2.875000</td>\n",
              "      <td>0.437500</td>\n",
              "      <td>1.950000</td>\n",
              "      <td>6.200000</td>\n",
              "      <td>1.120000</td>\n",
              "      <td>3.170000</td>\n",
              "      <td>985.000000</td>\n",
              "      <td>3.000000</td>\n",
              "    </tr>\n",
              "    <tr>\n",
              "      <th>max</th>\n",
              "      <td>14.830000</td>\n",
              "      <td>5.800000</td>\n",
              "      <td>3.230000</td>\n",
              "      <td>30.000000</td>\n",
              "      <td>162.000000</td>\n",
              "      <td>3.880000</td>\n",
              "      <td>5.080000</td>\n",
              "      <td>0.660000</td>\n",
              "      <td>3.580000</td>\n",
              "      <td>13.000000</td>\n",
              "      <td>1.710000</td>\n",
              "      <td>4.000000</td>\n",
              "      <td>1680.000000</td>\n",
              "      <td>3.000000</td>\n",
              "    </tr>\n",
              "  </tbody>\n",
              "</table>\n",
              "</div>"
            ],
            "text/plain": [
              "          Alcohol  Malic_Acid  ...      Proline  Customer_Segment\n",
              "count  178.000000  178.000000  ...   178.000000        178.000000\n",
              "mean    13.000618    2.336348  ...   746.893258          1.938202\n",
              "std      0.811827    1.117146  ...   314.907474          0.775035\n",
              "min     11.030000    0.740000  ...   278.000000          1.000000\n",
              "25%     12.362500    1.602500  ...   500.500000          1.000000\n",
              "50%     13.050000    1.865000  ...   673.500000          2.000000\n",
              "75%     13.677500    3.082500  ...   985.000000          3.000000\n",
              "max     14.830000    5.800000  ...  1680.000000          3.000000\n",
              "\n",
              "[8 rows x 14 columns]"
            ]
          },
          "metadata": {
            "tags": []
          },
          "execution_count": 48
        }
      ]
    },
    {
      "cell_type": "markdown",
      "metadata": {
        "id": "zZDo0WjiXGoZ"
      },
      "source": [
        "# **02. K-means**"
      ]
    },
    {
      "cell_type": "markdown",
      "metadata": {
        "id": "SkKlFZ_FYEyp"
      },
      "source": [
        "**Introdução ao K-means**"
      ]
    },
    {
      "cell_type": "markdown",
      "metadata": {
        "id": "5OfJcIb-YIWq"
      },
      "source": [
        "https://scikit-learn.org/stable/modules/generated/sklearn.cluster.KMeans.html"
      ]
    },
    {
      "cell_type": "code",
      "metadata": {
        "id": "8S1mvMVMYkAt"
      },
      "source": [
        "from sklearn.cluster import KMeans"
      ],
      "execution_count": null,
      "outputs": []
    },
    {
      "cell_type": "code",
      "metadata": {
        "colab": {
          "base_uri": "https://localhost:8080/"
        },
        "id": "SLGIgBZcYqrx",
        "outputId": "0584f3f9-396c-400c-cb70-bd21c8ccf053"
      },
      "source": [
        "agrupador =  KMeans(n_clusters=4)\n",
        "agrupador.fit(df)"
      ],
      "execution_count": null,
      "outputs": [
        {
          "output_type": "execute_result",
          "data": {
            "text/plain": [
              "KMeans(algorithm='auto', copy_x=True, init='k-means++', max_iter=300,\n",
              "       n_clusters=4, n_init=10, n_jobs=None, precompute_distances='auto',\n",
              "       random_state=None, tol=0.0001, verbose=0)"
            ]
          },
          "metadata": {
            "tags": []
          },
          "execution_count": 51
        }
      ]
    },
    {
      "cell_type": "code",
      "metadata": {
        "colab": {
          "base_uri": "https://localhost:8080/"
        },
        "id": "QjCCIUtdY7d_",
        "outputId": "c5d72a8b-ec36-4ce4-da2e-bbee38528399"
      },
      "source": [
        "labels = agrupador.labels_\n",
        "print(labels)"
      ],
      "execution_count": null,
      "outputs": [
        {
          "output_type": "stream",
          "text": [
            "[0 0 2 2 3 2 2 2 0 0 2 2 2 0 2 2 2 0 2 3 3 3 0 0 3 3 2 2 0 0 2 2 0 2 0 0 0\n",
            " 0 0 3 3 0 0 3 0 0 0 0 0 2 0 2 2 2 0 0 0 2 2 1 3 1 3 1 1 3 1 1 3 3 0 1 1 0\n",
            " 0 1 1 1 3 1 1 3 3 1 1 1 1 1 3 3 1 1 1 1 1 0 3 1 3 1 3 1 1 1 3 1 1 1 1 3 1\n",
            " 1 3 1 1 1 1 1 1 1 3 1 1 1 1 1 1 1 1 3 3 1 1 3 3 3 3 1 3 3 3 3 1 1 0 3 1 3\n",
            " 3 1 1 1 1 3 3 3 1 0 3 3 1 3 1 3 3 1 3 3 3 3 1 1 3 3 3 3 3 1]\n"
          ],
          "name": "stdout"
        }
      ]
    },
    {
      "cell_type": "markdown",
      "metadata": {
        "id": "itc8wVf1ZQmC"
      },
      "source": [
        "**Visualizando os Clusteres em duas dimensões**"
      ]
    },
    {
      "cell_type": "code",
      "metadata": {
        "colab": {
          "base_uri": "https://localhost:8080/"
        },
        "id": "OCC2IkceZxcP",
        "outputId": "198b2266-22b6-42b4-8a9f-de63bc950f82"
      },
      "source": [
        "df.columns"
      ],
      "execution_count": null,
      "outputs": [
        {
          "output_type": "execute_result",
          "data": {
            "text/plain": [
              "Index(['Alcohol', 'Malic_Acid', 'Ash', 'Ash_Alcanity', 'Magnesium',\n",
              "       'Total_Phenols', 'Flavanoids', 'Nonflavanoid_Phenols',\n",
              "       'Proanthocyanins', 'Color_Intensity', 'Hue', 'OD280', 'Proline',\n",
              "       'Customer_Segment'],\n",
              "      dtype='object')"
            ]
          },
          "metadata": {
            "tags": []
          },
          "execution_count": 53
        }
      ]
    },
    {
      "cell_type": "code",
      "metadata": {
        "colab": {
          "base_uri": "https://localhost:8080/",
          "height": 542
        },
        "id": "amgDj4_WZhFN",
        "outputId": "066bf47e-72ad-496e-badb-1667613586e8"
      },
      "source": [
        "fig = go.Figure()\n",
        "fig.add_trace(go.Scatter(x = df[\"Color_Intensity\"], y = df[\"Alcohol\"],\n",
        "                         mode=\"markers\",\n",
        "                         marker= dict(color = agrupador.labels_.astype(np.float)),\n",
        "                         text= labels))\n",
        "fig.show()"
      ],
      "execution_count": null,
      "outputs": [
        {
          "output_type": "display_data",
          "data": {
            "text/html": [
              "<html>\n",
              "<head><meta charset=\"utf-8\" /></head>\n",
              "<body>\n",
              "    <div>\n",
              "            <script src=\"https://cdnjs.cloudflare.com/ajax/libs/mathjax/2.7.5/MathJax.js?config=TeX-AMS-MML_SVG\"></script><script type=\"text/javascript\">if (window.MathJax) {MathJax.Hub.Config({SVG: {font: \"STIX-Web\"}});}</script>\n",
              "                <script type=\"text/javascript\">window.PlotlyConfig = {MathJaxConfig: 'local'};</script>\n",
              "        <script src=\"https://cdn.plot.ly/plotly-latest.min.js\"></script>    \n",
              "            <div id=\"0c15b1e7-3c3e-4ce3-b05d-bb2b2c172415\" class=\"plotly-graph-div\" style=\"height:525px; width:100%;\"></div>\n",
              "            <script type=\"text/javascript\">\n",
              "                \n",
              "                    window.PLOTLYENV=window.PLOTLYENV || {};\n",
              "                    \n",
              "                if (document.getElementById(\"0c15b1e7-3c3e-4ce3-b05d-bb2b2c172415\")) {\n",
              "                    Plotly.newPlot(\n",
              "                        '0c15b1e7-3c3e-4ce3-b05d-bb2b2c172415',\n",
              "                        [{\"marker\": {\"color\": [0.0, 0.0, 2.0, 2.0, 3.0, 2.0, 2.0, 2.0, 0.0, 0.0, 2.0, 2.0, 2.0, 0.0, 2.0, 2.0, 2.0, 0.0, 2.0, 3.0, 3.0, 3.0, 0.0, 0.0, 3.0, 3.0, 2.0, 2.0, 0.0, 0.0, 2.0, 2.0, 0.0, 2.0, 0.0, 0.0, 0.0, 0.0, 0.0, 3.0, 3.0, 0.0, 0.0, 3.0, 0.0, 0.0, 0.0, 0.0, 0.0, 2.0, 0.0, 2.0, 2.0, 2.0, 0.0, 0.0, 0.0, 2.0, 2.0, 1.0, 3.0, 1.0, 3.0, 1.0, 1.0, 3.0, 1.0, 1.0, 3.0, 3.0, 0.0, 1.0, 1.0, 0.0, 0.0, 1.0, 1.0, 1.0, 3.0, 1.0, 1.0, 3.0, 3.0, 1.0, 1.0, 1.0, 1.0, 1.0, 3.0, 3.0, 1.0, 1.0, 1.0, 1.0, 1.0, 0.0, 3.0, 1.0, 3.0, 1.0, 3.0, 1.0, 1.0, 1.0, 3.0, 1.0, 1.0, 1.0, 1.0, 3.0, 1.0, 1.0, 3.0, 1.0, 1.0, 1.0, 1.0, 1.0, 1.0, 1.0, 3.0, 1.0, 1.0, 1.0, 1.0, 1.0, 1.0, 1.0, 1.0, 3.0, 3.0, 1.0, 1.0, 3.0, 3.0, 3.0, 3.0, 1.0, 3.0, 3.0, 3.0, 3.0, 1.0, 1.0, 0.0, 3.0, 1.0, 3.0, 3.0, 1.0, 1.0, 1.0, 1.0, 3.0, 3.0, 3.0, 1.0, 0.0, 3.0, 3.0, 1.0, 3.0, 1.0, 3.0, 3.0, 1.0, 3.0, 3.0, 3.0, 3.0, 1.0, 1.0, 3.0, 3.0, 3.0, 3.0, 3.0, 1.0]}, \"mode\": \"markers\", \"text\": [0.0, 0.0, 2.0, 2.0, 3.0, 2.0, 2.0, 2.0, 0.0, 0.0, 2.0, 2.0, 2.0, 0.0, 2.0, 2.0, 2.0, 0.0, 2.0, 3.0, 3.0, 3.0, 0.0, 0.0, 3.0, 3.0, 2.0, 2.0, 0.0, 0.0, 2.0, 2.0, 0.0, 2.0, 0.0, 0.0, 0.0, 0.0, 0.0, 3.0, 3.0, 0.0, 0.0, 3.0, 0.0, 0.0, 0.0, 0.0, 0.0, 2.0, 0.0, 2.0, 2.0, 2.0, 0.0, 0.0, 0.0, 2.0, 2.0, 1.0, 3.0, 1.0, 3.0, 1.0, 1.0, 3.0, 1.0, 1.0, 3.0, 3.0, 0.0, 1.0, 1.0, 0.0, 0.0, 1.0, 1.0, 1.0, 3.0, 1.0, 1.0, 3.0, 3.0, 1.0, 1.0, 1.0, 1.0, 1.0, 3.0, 3.0, 1.0, 1.0, 1.0, 1.0, 1.0, 0.0, 3.0, 1.0, 3.0, 1.0, 3.0, 1.0, 1.0, 1.0, 3.0, 1.0, 1.0, 1.0, 1.0, 3.0, 1.0, 1.0, 3.0, 1.0, 1.0, 1.0, 1.0, 1.0, 1.0, 1.0, 3.0, 1.0, 1.0, 1.0, 1.0, 1.0, 1.0, 1.0, 1.0, 3.0, 3.0, 1.0, 1.0, 3.0, 3.0, 3.0, 3.0, 1.0, 3.0, 3.0, 3.0, 3.0, 1.0, 1.0, 0.0, 3.0, 1.0, 3.0, 3.0, 1.0, 1.0, 1.0, 1.0, 3.0, 3.0, 3.0, 1.0, 0.0, 3.0, 3.0, 1.0, 3.0, 1.0, 3.0, 3.0, 1.0, 3.0, 3.0, 3.0, 3.0, 1.0, 1.0, 3.0, 3.0, 3.0, 3.0, 3.0, 1.0], \"type\": \"scatter\", \"x\": [5.64, 4.38, 5.68, 7.8, 4.32, 6.75, 5.25, 5.05, 5.2, 7.22, 5.75, 5.0, 5.6, 5.4, 7.5, 7.3, 6.2, 6.6, 8.7, 5.1, 5.65, 4.5, 3.8, 3.93, 3.52, 3.58, 4.8, 3.95, 4.5, 4.7, 5.7, 6.9, 3.84, 5.4, 4.2, 5.1, 4.6, 4.25, 3.7, 5.1, 6.13, 4.28, 5.43, 4.36, 5.04, 5.24, 4.9, 6.1, 6.2, 8.9, 7.2, 5.6, 7.05, 6.3, 5.85, 6.25, 6.38, 6.0, 6.8, 1.95, 3.27, 5.75, 3.8, 4.45, 2.95, 4.6, 5.3, 4.68, 3.17, 2.85, 3.05, 3.38, 3.74, 3.35, 3.21, 3.8, 4.6, 2.65, 3.4, 2.57, 2.5, 3.9, 2.2, 4.8, 3.05, 2.62, 2.45, 2.6, 2.8, 1.74, 2.4, 3.6, 3.05, 2.15, 3.25, 2.6, 2.5, 2.9, 4.5, 2.3, 3.3, 2.45, 2.8, 2.06, 2.94, 2.7, 3.4, 3.3, 2.7, 2.65, 2.9, 2.0, 3.8, 3.08, 2.9, 1.9, 1.95, 2.06, 3.4, 1.28, 3.25, 6.0, 2.08, 2.6, 2.8, 2.76, 3.94, 3.0, 2.12, 2.6, 4.1, 5.4, 5.7, 5.0, 5.45, 7.1, 3.85, 5.0, 5.7, 4.92, 4.6, 5.6, 4.35, 4.4, 8.21, 4.0, 4.9, 7.65, 8.42, 9.4, 8.6, 10.8, 7.1, 10.52, 7.6, 7.9, 9.01, 7.5, 13.0, 11.75, 7.65, 5.88, 5.58, 5.28, 9.58, 6.62, 10.68, 10.26, 8.66, 8.5, 5.5, 9.899999000000001, 9.7, 7.7, 7.3, 10.2, 9.3, 9.2], \"y\": [14.23, 13.2, 13.16, 14.37, 13.24, 14.2, 14.39, 14.06, 14.83, 13.86, 14.1, 14.12, 13.75, 14.75, 14.38, 13.63, 14.3, 13.83, 14.19, 13.64, 14.06, 12.93, 13.71, 12.85, 13.5, 13.05, 13.39, 13.3, 13.87, 14.02, 13.73, 13.58, 13.68, 13.76, 13.51, 13.48, 13.28, 13.05, 13.07, 14.22, 13.56, 13.41, 13.88, 13.24, 13.05, 14.21, 14.38, 13.9, 14.1, 13.94, 13.05, 13.83, 13.82, 13.77, 13.74, 13.56, 14.22, 13.29, 13.72, 12.37, 12.33, 12.64, 13.67, 12.37, 12.17, 12.37, 13.11, 12.37, 13.34, 12.21, 12.29, 13.86, 13.49, 12.99, 11.96, 11.66, 13.03, 11.84, 12.33, 12.7, 12.0, 12.72, 12.08, 13.05, 11.84, 12.67, 12.16, 11.65, 11.64, 12.08, 12.08, 12.0, 12.69, 12.29, 11.62, 12.47, 11.81, 12.29, 12.37, 12.29, 12.08, 12.6, 12.34, 11.82, 12.51, 12.42, 12.25, 12.72, 12.22, 11.61, 11.46, 12.52, 11.76, 11.41, 12.08, 11.03, 11.82, 12.42, 12.77, 12.0, 11.45, 11.56, 12.42, 13.05, 11.87, 12.07, 12.43, 11.79, 12.37, 12.04, 12.86, 12.88, 12.81, 12.7, 12.51, 12.6, 12.25, 12.53, 13.49, 12.84, 12.93, 13.36, 13.52, 13.62, 12.25, 13.16, 13.88, 12.87, 13.32, 13.08, 13.5, 12.79, 13.11, 13.23, 12.58, 13.17, 13.84, 12.45, 14.34, 13.48, 12.36, 13.69, 12.85, 12.96, 13.78, 13.73, 13.45, 12.82, 13.58, 13.4, 12.2, 12.77, 14.16, 13.71, 13.4, 13.27, 13.17, 14.13]}],\n",
              "                        {\"template\": {\"data\": {\"bar\": [{\"error_x\": {\"color\": \"#2a3f5f\"}, \"error_y\": {\"color\": \"#2a3f5f\"}, \"marker\": {\"line\": {\"color\": \"#E5ECF6\", \"width\": 0.5}}, \"type\": \"bar\"}], \"barpolar\": [{\"marker\": {\"line\": {\"color\": \"#E5ECF6\", \"width\": 0.5}}, \"type\": \"barpolar\"}], \"carpet\": [{\"aaxis\": {\"endlinecolor\": \"#2a3f5f\", \"gridcolor\": \"white\", \"linecolor\": \"white\", \"minorgridcolor\": \"white\", \"startlinecolor\": \"#2a3f5f\"}, \"baxis\": {\"endlinecolor\": \"#2a3f5f\", \"gridcolor\": \"white\", \"linecolor\": \"white\", \"minorgridcolor\": \"white\", \"startlinecolor\": \"#2a3f5f\"}, \"type\": \"carpet\"}], \"choropleth\": [{\"colorbar\": {\"outlinewidth\": 0, \"ticks\": \"\"}, \"type\": \"choropleth\"}], \"contour\": [{\"colorbar\": {\"outlinewidth\": 0, \"ticks\": \"\"}, \"colorscale\": [[0.0, \"#0d0887\"], [0.1111111111111111, \"#46039f\"], [0.2222222222222222, \"#7201a8\"], [0.3333333333333333, \"#9c179e\"], [0.4444444444444444, \"#bd3786\"], [0.5555555555555556, \"#d8576b\"], [0.6666666666666666, \"#ed7953\"], [0.7777777777777778, \"#fb9f3a\"], [0.8888888888888888, \"#fdca26\"], [1.0, \"#f0f921\"]], \"type\": \"contour\"}], \"contourcarpet\": [{\"colorbar\": {\"outlinewidth\": 0, \"ticks\": \"\"}, \"type\": \"contourcarpet\"}], \"heatmap\": [{\"colorbar\": {\"outlinewidth\": 0, \"ticks\": \"\"}, \"colorscale\": [[0.0, \"#0d0887\"], [0.1111111111111111, \"#46039f\"], [0.2222222222222222, \"#7201a8\"], [0.3333333333333333, \"#9c179e\"], [0.4444444444444444, \"#bd3786\"], [0.5555555555555556, \"#d8576b\"], [0.6666666666666666, \"#ed7953\"], [0.7777777777777778, \"#fb9f3a\"], [0.8888888888888888, \"#fdca26\"], [1.0, \"#f0f921\"]], \"type\": \"heatmap\"}], \"heatmapgl\": [{\"colorbar\": {\"outlinewidth\": 0, \"ticks\": \"\"}, \"colorscale\": [[0.0, \"#0d0887\"], [0.1111111111111111, \"#46039f\"], [0.2222222222222222, \"#7201a8\"], [0.3333333333333333, \"#9c179e\"], [0.4444444444444444, \"#bd3786\"], [0.5555555555555556, \"#d8576b\"], [0.6666666666666666, \"#ed7953\"], [0.7777777777777778, \"#fb9f3a\"], [0.8888888888888888, \"#fdca26\"], [1.0, \"#f0f921\"]], \"type\": \"heatmapgl\"}], \"histogram\": [{\"marker\": {\"colorbar\": {\"outlinewidth\": 0, \"ticks\": \"\"}}, \"type\": \"histogram\"}], \"histogram2d\": [{\"colorbar\": {\"outlinewidth\": 0, \"ticks\": \"\"}, \"colorscale\": [[0.0, \"#0d0887\"], [0.1111111111111111, \"#46039f\"], [0.2222222222222222, \"#7201a8\"], [0.3333333333333333, \"#9c179e\"], [0.4444444444444444, \"#bd3786\"], [0.5555555555555556, \"#d8576b\"], [0.6666666666666666, \"#ed7953\"], [0.7777777777777778, \"#fb9f3a\"], [0.8888888888888888, \"#fdca26\"], [1.0, \"#f0f921\"]], \"type\": \"histogram2d\"}], \"histogram2dcontour\": [{\"colorbar\": {\"outlinewidth\": 0, \"ticks\": \"\"}, \"colorscale\": [[0.0, \"#0d0887\"], [0.1111111111111111, \"#46039f\"], [0.2222222222222222, \"#7201a8\"], [0.3333333333333333, \"#9c179e\"], [0.4444444444444444, \"#bd3786\"], [0.5555555555555556, \"#d8576b\"], [0.6666666666666666, \"#ed7953\"], [0.7777777777777778, \"#fb9f3a\"], [0.8888888888888888, \"#fdca26\"], [1.0, \"#f0f921\"]], \"type\": \"histogram2dcontour\"}], \"mesh3d\": [{\"colorbar\": {\"outlinewidth\": 0, \"ticks\": \"\"}, \"type\": \"mesh3d\"}], \"parcoords\": [{\"line\": {\"colorbar\": {\"outlinewidth\": 0, \"ticks\": \"\"}}, \"type\": \"parcoords\"}], \"scatter\": [{\"marker\": {\"colorbar\": {\"outlinewidth\": 0, \"ticks\": \"\"}}, \"type\": \"scatter\"}], \"scatter3d\": [{\"line\": {\"colorbar\": {\"outlinewidth\": 0, \"ticks\": \"\"}}, \"marker\": {\"colorbar\": {\"outlinewidth\": 0, \"ticks\": \"\"}}, \"type\": \"scatter3d\"}], \"scattercarpet\": [{\"marker\": {\"colorbar\": {\"outlinewidth\": 0, \"ticks\": \"\"}}, \"type\": \"scattercarpet\"}], \"scattergeo\": [{\"marker\": {\"colorbar\": {\"outlinewidth\": 0, \"ticks\": \"\"}}, \"type\": \"scattergeo\"}], \"scattergl\": [{\"marker\": {\"colorbar\": {\"outlinewidth\": 0, \"ticks\": \"\"}}, \"type\": \"scattergl\"}], \"scattermapbox\": [{\"marker\": {\"colorbar\": {\"outlinewidth\": 0, \"ticks\": \"\"}}, \"type\": \"scattermapbox\"}], \"scatterpolar\": [{\"marker\": {\"colorbar\": {\"outlinewidth\": 0, \"ticks\": \"\"}}, \"type\": \"scatterpolar\"}], \"scatterpolargl\": [{\"marker\": {\"colorbar\": {\"outlinewidth\": 0, \"ticks\": \"\"}}, \"type\": \"scatterpolargl\"}], \"scatterternary\": [{\"marker\": {\"colorbar\": {\"outlinewidth\": 0, \"ticks\": \"\"}}, \"type\": \"scatterternary\"}], \"surface\": [{\"colorbar\": {\"outlinewidth\": 0, \"ticks\": \"\"}, \"colorscale\": [[0.0, \"#0d0887\"], [0.1111111111111111, \"#46039f\"], [0.2222222222222222, \"#7201a8\"], [0.3333333333333333, \"#9c179e\"], [0.4444444444444444, \"#bd3786\"], [0.5555555555555556, \"#d8576b\"], [0.6666666666666666, \"#ed7953\"], [0.7777777777777778, \"#fb9f3a\"], [0.8888888888888888, \"#fdca26\"], [1.0, \"#f0f921\"]], \"type\": \"surface\"}], \"table\": [{\"cells\": {\"fill\": {\"color\": \"#EBF0F8\"}, \"line\": {\"color\": \"white\"}}, \"header\": {\"fill\": {\"color\": \"#C8D4E3\"}, \"line\": {\"color\": \"white\"}}, \"type\": \"table\"}]}, \"layout\": {\"annotationdefaults\": {\"arrowcolor\": \"#2a3f5f\", \"arrowhead\": 0, \"arrowwidth\": 1}, \"colorscale\": {\"diverging\": [[0, \"#8e0152\"], [0.1, \"#c51b7d\"], [0.2, \"#de77ae\"], [0.3, \"#f1b6da\"], [0.4, \"#fde0ef\"], [0.5, \"#f7f7f7\"], [0.6, \"#e6f5d0\"], [0.7, \"#b8e186\"], [0.8, \"#7fbc41\"], [0.9, \"#4d9221\"], [1, \"#276419\"]], \"sequential\": [[0.0, \"#0d0887\"], [0.1111111111111111, \"#46039f\"], [0.2222222222222222, \"#7201a8\"], [0.3333333333333333, \"#9c179e\"], [0.4444444444444444, \"#bd3786\"], [0.5555555555555556, \"#d8576b\"], [0.6666666666666666, \"#ed7953\"], [0.7777777777777778, \"#fb9f3a\"], [0.8888888888888888, \"#fdca26\"], [1.0, \"#f0f921\"]], \"sequentialminus\": [[0.0, \"#0d0887\"], [0.1111111111111111, \"#46039f\"], [0.2222222222222222, \"#7201a8\"], [0.3333333333333333, \"#9c179e\"], [0.4444444444444444, \"#bd3786\"], [0.5555555555555556, \"#d8576b\"], [0.6666666666666666, \"#ed7953\"], [0.7777777777777778, \"#fb9f3a\"], [0.8888888888888888, \"#fdca26\"], [1.0, \"#f0f921\"]]}, \"colorway\": [\"#636efa\", \"#EF553B\", \"#00cc96\", \"#ab63fa\", \"#FFA15A\", \"#19d3f3\", \"#FF6692\", \"#B6E880\", \"#FF97FF\", \"#FECB52\"], \"font\": {\"color\": \"#2a3f5f\"}, \"geo\": {\"bgcolor\": \"white\", \"lakecolor\": \"white\", \"landcolor\": \"#E5ECF6\", \"showlakes\": true, \"showland\": true, \"subunitcolor\": \"white\"}, \"hoverlabel\": {\"align\": \"left\"}, \"hovermode\": \"closest\", \"mapbox\": {\"style\": \"light\"}, \"paper_bgcolor\": \"white\", \"plot_bgcolor\": \"#E5ECF6\", \"polar\": {\"angularaxis\": {\"gridcolor\": \"white\", \"linecolor\": \"white\", \"ticks\": \"\"}, \"bgcolor\": \"#E5ECF6\", \"radialaxis\": {\"gridcolor\": \"white\", \"linecolor\": \"white\", \"ticks\": \"\"}}, \"scene\": {\"xaxis\": {\"backgroundcolor\": \"#E5ECF6\", \"gridcolor\": \"white\", \"gridwidth\": 2, \"linecolor\": \"white\", \"showbackground\": true, \"ticks\": \"\", \"zerolinecolor\": \"white\"}, \"yaxis\": {\"backgroundcolor\": \"#E5ECF6\", \"gridcolor\": \"white\", \"gridwidth\": 2, \"linecolor\": \"white\", \"showbackground\": true, \"ticks\": \"\", \"zerolinecolor\": \"white\"}, \"zaxis\": {\"backgroundcolor\": \"#E5ECF6\", \"gridcolor\": \"white\", \"gridwidth\": 2, \"linecolor\": \"white\", \"showbackground\": true, \"ticks\": \"\", \"zerolinecolor\": \"white\"}}, \"shapedefaults\": {\"line\": {\"color\": \"#2a3f5f\"}}, \"ternary\": {\"aaxis\": {\"gridcolor\": \"white\", \"linecolor\": \"white\", \"ticks\": \"\"}, \"baxis\": {\"gridcolor\": \"white\", \"linecolor\": \"white\", \"ticks\": \"\"}, \"bgcolor\": \"#E5ECF6\", \"caxis\": {\"gridcolor\": \"white\", \"linecolor\": \"white\", \"ticks\": \"\"}}, \"title\": {\"x\": 0.05}, \"xaxis\": {\"automargin\": true, \"gridcolor\": \"white\", \"linecolor\": \"white\", \"ticks\": \"\", \"zerolinecolor\": \"white\", \"zerolinewidth\": 2}, \"yaxis\": {\"automargin\": true, \"gridcolor\": \"white\", \"linecolor\": \"white\", \"ticks\": \"\", \"zerolinecolor\": \"white\", \"zerolinewidth\": 2}}}},\n",
              "                        {\"responsive\": true}\n",
              "                    ).then(function(){\n",
              "                            \n",
              "var gd = document.getElementById('0c15b1e7-3c3e-4ce3-b05d-bb2b2c172415');\n",
              "var x = new MutationObserver(function (mutations, observer) {{\n",
              "        var display = window.getComputedStyle(gd).display;\n",
              "        if (!display || display === 'none') {{\n",
              "            console.log([gd, 'removed!']);\n",
              "            Plotly.purge(gd);\n",
              "            observer.disconnect();\n",
              "        }}\n",
              "}});\n",
              "\n",
              "// Listen for the removal of the full notebook cells\n",
              "var notebookContainer = gd.closest('#notebook-container');\n",
              "if (notebookContainer) {{\n",
              "    x.observe(notebookContainer, {childList: true});\n",
              "}}\n",
              "\n",
              "// Listen for the clearing of the current output cell\n",
              "var outputEl = gd.closest('.output');\n",
              "if (outputEl) {{\n",
              "    x.observe(outputEl, {childList: true});\n",
              "}}\n",
              "\n",
              "                        })\n",
              "                };\n",
              "                \n",
              "            </script>\n",
              "        </div>\n",
              "</body>\n",
              "</html>"
            ]
          },
          "metadata": {
            "tags": []
          }
        }
      ]
    },
    {
      "cell_type": "markdown",
      "metadata": {
        "id": "sn9gFqJobBMo"
      },
      "source": [
        "**Visualizando os Clusteres em duas dimensões para 3 grupos (k = 3)**"
      ]
    },
    {
      "cell_type": "code",
      "metadata": {
        "colab": {
          "base_uri": "https://localhost:8080/"
        },
        "id": "3v5EA1TrbOVU",
        "outputId": "65dbf8b1-64f0-4e00-9baf-1138e0bd6629"
      },
      "source": [
        "agrupador =  KMeans(n_clusters=3)\n",
        "agrupador.fit(df)"
      ],
      "execution_count": null,
      "outputs": [
        {
          "output_type": "execute_result",
          "data": {
            "text/plain": [
              "KMeans(algorithm='auto', copy_x=True, init='k-means++', max_iter=300,\n",
              "       n_clusters=3, n_init=10, n_jobs=None, precompute_distances='auto',\n",
              "       random_state=None, tol=0.0001, verbose=0)"
            ]
          },
          "metadata": {
            "tags": []
          },
          "execution_count": 56
        }
      ]
    },
    {
      "cell_type": "code",
      "metadata": {
        "colab": {
          "base_uri": "https://localhost:8080/"
        },
        "id": "fASpl5OYbW7g",
        "outputId": "4d583e30-916e-4c22-8757-9b21f3c0a0cd"
      },
      "source": [
        "labels = agrupador.labels_\n",
        "print(labels)"
      ],
      "execution_count": null,
      "outputs": [
        {
          "output_type": "stream",
          "text": [
            "[0 0 0 0 1 0 0 0 0 0 0 0 0 0 0 0 0 0 0 1 1 1 0 0 1 1 0 0 1 0 0 0 0 0 0 1 1\n",
            " 0 0 1 1 0 0 1 1 0 0 0 0 0 0 0 0 0 0 0 0 0 0 2 1 2 1 2 2 1 2 2 1 1 1 2 2 0\n",
            " 1 2 2 2 1 2 2 1 1 2 2 2 2 2 1 1 2 2 2 2 2 1 1 2 1 2 1 2 2 2 1 2 2 2 2 1 2\n",
            " 2 1 2 2 2 2 2 2 2 1 2 2 2 2 2 2 2 2 2 1 2 2 1 1 1 1 2 2 2 1 1 2 2 1 1 2 1\n",
            " 1 2 2 2 2 1 1 1 2 1 1 1 2 1 2 1 1 2 1 1 1 1 2 2 1 1 1 1 1 2]\n"
          ],
          "name": "stdout"
        }
      ]
    },
    {
      "cell_type": "code",
      "metadata": {
        "colab": {
          "base_uri": "https://localhost:8080/",
          "height": 542
        },
        "id": "ccnqe-vObaRV",
        "outputId": "42ab2ecc-eecd-41bd-bed6-b607cee2c80e"
      },
      "source": [
        "fig = go.Figure()\n",
        "fig.add_trace(go.Scatter(x = df[\"Color_Intensity\"], y = df[\"Alcohol\"],\n",
        "                         mode=\"markers\",\n",
        "                         marker= dict(color = agrupador.labels_.astype(np.float)),\n",
        "                         text= labels))\n",
        "fig.show()"
      ],
      "execution_count": null,
      "outputs": [
        {
          "output_type": "display_data",
          "data": {
            "text/html": [
              "<html>\n",
              "<head><meta charset=\"utf-8\" /></head>\n",
              "<body>\n",
              "    <div>\n",
              "            <script src=\"https://cdnjs.cloudflare.com/ajax/libs/mathjax/2.7.5/MathJax.js?config=TeX-AMS-MML_SVG\"></script><script type=\"text/javascript\">if (window.MathJax) {MathJax.Hub.Config({SVG: {font: \"STIX-Web\"}});}</script>\n",
              "                <script type=\"text/javascript\">window.PlotlyConfig = {MathJaxConfig: 'local'};</script>\n",
              "        <script src=\"https://cdn.plot.ly/plotly-latest.min.js\"></script>    \n",
              "            <div id=\"9026363f-978d-475f-9230-1be4ebe140fa\" class=\"plotly-graph-div\" style=\"height:525px; width:100%;\"></div>\n",
              "            <script type=\"text/javascript\">\n",
              "                \n",
              "                    window.PLOTLYENV=window.PLOTLYENV || {};\n",
              "                    \n",
              "                if (document.getElementById(\"9026363f-978d-475f-9230-1be4ebe140fa\")) {\n",
              "                    Plotly.newPlot(\n",
              "                        '9026363f-978d-475f-9230-1be4ebe140fa',\n",
              "                        [{\"marker\": {\"color\": [0.0, 0.0, 0.0, 0.0, 1.0, 0.0, 0.0, 0.0, 0.0, 0.0, 0.0, 0.0, 0.0, 0.0, 0.0, 0.0, 0.0, 0.0, 0.0, 1.0, 1.0, 1.0, 0.0, 0.0, 1.0, 1.0, 0.0, 0.0, 1.0, 0.0, 0.0, 0.0, 0.0, 0.0, 0.0, 1.0, 1.0, 0.0, 0.0, 1.0, 1.0, 0.0, 0.0, 1.0, 1.0, 0.0, 0.0, 0.0, 0.0, 0.0, 0.0, 0.0, 0.0, 0.0, 0.0, 0.0, 0.0, 0.0, 0.0, 2.0, 1.0, 2.0, 1.0, 2.0, 2.0, 1.0, 2.0, 2.0, 1.0, 1.0, 1.0, 2.0, 2.0, 0.0, 1.0, 2.0, 2.0, 2.0, 1.0, 2.0, 2.0, 1.0, 1.0, 2.0, 2.0, 2.0, 2.0, 2.0, 1.0, 1.0, 2.0, 2.0, 2.0, 2.0, 2.0, 1.0, 1.0, 2.0, 1.0, 2.0, 1.0, 2.0, 2.0, 2.0, 1.0, 2.0, 2.0, 2.0, 2.0, 1.0, 2.0, 2.0, 1.0, 2.0, 2.0, 2.0, 2.0, 2.0, 2.0, 2.0, 1.0, 2.0, 2.0, 2.0, 2.0, 2.0, 2.0, 2.0, 2.0, 2.0, 1.0, 2.0, 2.0, 1.0, 1.0, 1.0, 1.0, 2.0, 2.0, 2.0, 1.0, 1.0, 2.0, 2.0, 1.0, 1.0, 2.0, 1.0, 1.0, 2.0, 2.0, 2.0, 2.0, 1.0, 1.0, 1.0, 2.0, 1.0, 1.0, 1.0, 2.0, 1.0, 2.0, 1.0, 1.0, 2.0, 1.0, 1.0, 1.0, 1.0, 2.0, 2.0, 1.0, 1.0, 1.0, 1.0, 1.0, 2.0]}, \"mode\": \"markers\", \"text\": [0.0, 0.0, 0.0, 0.0, 1.0, 0.0, 0.0, 0.0, 0.0, 0.0, 0.0, 0.0, 0.0, 0.0, 0.0, 0.0, 0.0, 0.0, 0.0, 1.0, 1.0, 1.0, 0.0, 0.0, 1.0, 1.0, 0.0, 0.0, 1.0, 0.0, 0.0, 0.0, 0.0, 0.0, 0.0, 1.0, 1.0, 0.0, 0.0, 1.0, 1.0, 0.0, 0.0, 1.0, 1.0, 0.0, 0.0, 0.0, 0.0, 0.0, 0.0, 0.0, 0.0, 0.0, 0.0, 0.0, 0.0, 0.0, 0.0, 2.0, 1.0, 2.0, 1.0, 2.0, 2.0, 1.0, 2.0, 2.0, 1.0, 1.0, 1.0, 2.0, 2.0, 0.0, 1.0, 2.0, 2.0, 2.0, 1.0, 2.0, 2.0, 1.0, 1.0, 2.0, 2.0, 2.0, 2.0, 2.0, 1.0, 1.0, 2.0, 2.0, 2.0, 2.0, 2.0, 1.0, 1.0, 2.0, 1.0, 2.0, 1.0, 2.0, 2.0, 2.0, 1.0, 2.0, 2.0, 2.0, 2.0, 1.0, 2.0, 2.0, 1.0, 2.0, 2.0, 2.0, 2.0, 2.0, 2.0, 2.0, 1.0, 2.0, 2.0, 2.0, 2.0, 2.0, 2.0, 2.0, 2.0, 2.0, 1.0, 2.0, 2.0, 1.0, 1.0, 1.0, 1.0, 2.0, 2.0, 2.0, 1.0, 1.0, 2.0, 2.0, 1.0, 1.0, 2.0, 1.0, 1.0, 2.0, 2.0, 2.0, 2.0, 1.0, 1.0, 1.0, 2.0, 1.0, 1.0, 1.0, 2.0, 1.0, 2.0, 1.0, 1.0, 2.0, 1.0, 1.0, 1.0, 1.0, 2.0, 2.0, 1.0, 1.0, 1.0, 1.0, 1.0, 2.0], \"type\": \"scatter\", \"x\": [5.64, 4.38, 5.68, 7.8, 4.32, 6.75, 5.25, 5.05, 5.2, 7.22, 5.75, 5.0, 5.6, 5.4, 7.5, 7.3, 6.2, 6.6, 8.7, 5.1, 5.65, 4.5, 3.8, 3.93, 3.52, 3.58, 4.8, 3.95, 4.5, 4.7, 5.7, 6.9, 3.84, 5.4, 4.2, 5.1, 4.6, 4.25, 3.7, 5.1, 6.13, 4.28, 5.43, 4.36, 5.04, 5.24, 4.9, 6.1, 6.2, 8.9, 7.2, 5.6, 7.05, 6.3, 5.85, 6.25, 6.38, 6.0, 6.8, 1.95, 3.27, 5.75, 3.8, 4.45, 2.95, 4.6, 5.3, 4.68, 3.17, 2.85, 3.05, 3.38, 3.74, 3.35, 3.21, 3.8, 4.6, 2.65, 3.4, 2.57, 2.5, 3.9, 2.2, 4.8, 3.05, 2.62, 2.45, 2.6, 2.8, 1.74, 2.4, 3.6, 3.05, 2.15, 3.25, 2.6, 2.5, 2.9, 4.5, 2.3, 3.3, 2.45, 2.8, 2.06, 2.94, 2.7, 3.4, 3.3, 2.7, 2.65, 2.9, 2.0, 3.8, 3.08, 2.9, 1.9, 1.95, 2.06, 3.4, 1.28, 3.25, 6.0, 2.08, 2.6, 2.8, 2.76, 3.94, 3.0, 2.12, 2.6, 4.1, 5.4, 5.7, 5.0, 5.45, 7.1, 3.85, 5.0, 5.7, 4.92, 4.6, 5.6, 4.35, 4.4, 8.21, 4.0, 4.9, 7.65, 8.42, 9.4, 8.6, 10.8, 7.1, 10.52, 7.6, 7.9, 9.01, 7.5, 13.0, 11.75, 7.65, 5.88, 5.58, 5.28, 9.58, 6.62, 10.68, 10.26, 8.66, 8.5, 5.5, 9.899999000000001, 9.7, 7.7, 7.3, 10.2, 9.3, 9.2], \"y\": [14.23, 13.2, 13.16, 14.37, 13.24, 14.2, 14.39, 14.06, 14.83, 13.86, 14.1, 14.12, 13.75, 14.75, 14.38, 13.63, 14.3, 13.83, 14.19, 13.64, 14.06, 12.93, 13.71, 12.85, 13.5, 13.05, 13.39, 13.3, 13.87, 14.02, 13.73, 13.58, 13.68, 13.76, 13.51, 13.48, 13.28, 13.05, 13.07, 14.22, 13.56, 13.41, 13.88, 13.24, 13.05, 14.21, 14.38, 13.9, 14.1, 13.94, 13.05, 13.83, 13.82, 13.77, 13.74, 13.56, 14.22, 13.29, 13.72, 12.37, 12.33, 12.64, 13.67, 12.37, 12.17, 12.37, 13.11, 12.37, 13.34, 12.21, 12.29, 13.86, 13.49, 12.99, 11.96, 11.66, 13.03, 11.84, 12.33, 12.7, 12.0, 12.72, 12.08, 13.05, 11.84, 12.67, 12.16, 11.65, 11.64, 12.08, 12.08, 12.0, 12.69, 12.29, 11.62, 12.47, 11.81, 12.29, 12.37, 12.29, 12.08, 12.6, 12.34, 11.82, 12.51, 12.42, 12.25, 12.72, 12.22, 11.61, 11.46, 12.52, 11.76, 11.41, 12.08, 11.03, 11.82, 12.42, 12.77, 12.0, 11.45, 11.56, 12.42, 13.05, 11.87, 12.07, 12.43, 11.79, 12.37, 12.04, 12.86, 12.88, 12.81, 12.7, 12.51, 12.6, 12.25, 12.53, 13.49, 12.84, 12.93, 13.36, 13.52, 13.62, 12.25, 13.16, 13.88, 12.87, 13.32, 13.08, 13.5, 12.79, 13.11, 13.23, 12.58, 13.17, 13.84, 12.45, 14.34, 13.48, 12.36, 13.69, 12.85, 12.96, 13.78, 13.73, 13.45, 12.82, 13.58, 13.4, 12.2, 12.77, 14.16, 13.71, 13.4, 13.27, 13.17, 14.13]}],\n",
              "                        {\"template\": {\"data\": {\"bar\": [{\"error_x\": {\"color\": \"#2a3f5f\"}, \"error_y\": {\"color\": \"#2a3f5f\"}, \"marker\": {\"line\": {\"color\": \"#E5ECF6\", \"width\": 0.5}}, \"type\": \"bar\"}], \"barpolar\": [{\"marker\": {\"line\": {\"color\": \"#E5ECF6\", \"width\": 0.5}}, \"type\": \"barpolar\"}], \"carpet\": [{\"aaxis\": {\"endlinecolor\": \"#2a3f5f\", \"gridcolor\": \"white\", \"linecolor\": \"white\", \"minorgridcolor\": \"white\", \"startlinecolor\": \"#2a3f5f\"}, \"baxis\": {\"endlinecolor\": \"#2a3f5f\", \"gridcolor\": \"white\", \"linecolor\": \"white\", \"minorgridcolor\": \"white\", \"startlinecolor\": \"#2a3f5f\"}, \"type\": \"carpet\"}], \"choropleth\": [{\"colorbar\": {\"outlinewidth\": 0, \"ticks\": \"\"}, \"type\": \"choropleth\"}], \"contour\": [{\"colorbar\": {\"outlinewidth\": 0, \"ticks\": \"\"}, \"colorscale\": [[0.0, \"#0d0887\"], [0.1111111111111111, \"#46039f\"], [0.2222222222222222, \"#7201a8\"], [0.3333333333333333, \"#9c179e\"], [0.4444444444444444, \"#bd3786\"], [0.5555555555555556, \"#d8576b\"], [0.6666666666666666, \"#ed7953\"], [0.7777777777777778, \"#fb9f3a\"], [0.8888888888888888, \"#fdca26\"], [1.0, \"#f0f921\"]], \"type\": \"contour\"}], \"contourcarpet\": [{\"colorbar\": {\"outlinewidth\": 0, \"ticks\": \"\"}, \"type\": \"contourcarpet\"}], \"heatmap\": [{\"colorbar\": {\"outlinewidth\": 0, \"ticks\": \"\"}, \"colorscale\": [[0.0, \"#0d0887\"], [0.1111111111111111, \"#46039f\"], [0.2222222222222222, \"#7201a8\"], [0.3333333333333333, \"#9c179e\"], [0.4444444444444444, \"#bd3786\"], [0.5555555555555556, \"#d8576b\"], [0.6666666666666666, \"#ed7953\"], [0.7777777777777778, \"#fb9f3a\"], [0.8888888888888888, \"#fdca26\"], [1.0, \"#f0f921\"]], \"type\": \"heatmap\"}], \"heatmapgl\": [{\"colorbar\": {\"outlinewidth\": 0, \"ticks\": \"\"}, \"colorscale\": [[0.0, \"#0d0887\"], [0.1111111111111111, \"#46039f\"], [0.2222222222222222, \"#7201a8\"], [0.3333333333333333, \"#9c179e\"], [0.4444444444444444, \"#bd3786\"], [0.5555555555555556, \"#d8576b\"], [0.6666666666666666, \"#ed7953\"], [0.7777777777777778, \"#fb9f3a\"], [0.8888888888888888, \"#fdca26\"], [1.0, \"#f0f921\"]], \"type\": \"heatmapgl\"}], \"histogram\": [{\"marker\": {\"colorbar\": {\"outlinewidth\": 0, \"ticks\": \"\"}}, \"type\": \"histogram\"}], \"histogram2d\": [{\"colorbar\": {\"outlinewidth\": 0, \"ticks\": \"\"}, \"colorscale\": [[0.0, \"#0d0887\"], [0.1111111111111111, \"#46039f\"], [0.2222222222222222, \"#7201a8\"], [0.3333333333333333, \"#9c179e\"], [0.4444444444444444, \"#bd3786\"], [0.5555555555555556, \"#d8576b\"], [0.6666666666666666, \"#ed7953\"], [0.7777777777777778, \"#fb9f3a\"], [0.8888888888888888, \"#fdca26\"], [1.0, \"#f0f921\"]], \"type\": \"histogram2d\"}], \"histogram2dcontour\": [{\"colorbar\": {\"outlinewidth\": 0, \"ticks\": \"\"}, \"colorscale\": [[0.0, \"#0d0887\"], [0.1111111111111111, \"#46039f\"], [0.2222222222222222, \"#7201a8\"], [0.3333333333333333, \"#9c179e\"], [0.4444444444444444, \"#bd3786\"], [0.5555555555555556, \"#d8576b\"], [0.6666666666666666, \"#ed7953\"], [0.7777777777777778, \"#fb9f3a\"], [0.8888888888888888, \"#fdca26\"], [1.0, \"#f0f921\"]], \"type\": \"histogram2dcontour\"}], \"mesh3d\": [{\"colorbar\": {\"outlinewidth\": 0, \"ticks\": \"\"}, \"type\": \"mesh3d\"}], \"parcoords\": [{\"line\": {\"colorbar\": {\"outlinewidth\": 0, \"ticks\": \"\"}}, \"type\": \"parcoords\"}], \"scatter\": [{\"marker\": {\"colorbar\": {\"outlinewidth\": 0, \"ticks\": \"\"}}, \"type\": \"scatter\"}], \"scatter3d\": [{\"line\": {\"colorbar\": {\"outlinewidth\": 0, \"ticks\": \"\"}}, \"marker\": {\"colorbar\": {\"outlinewidth\": 0, \"ticks\": \"\"}}, \"type\": \"scatter3d\"}], \"scattercarpet\": [{\"marker\": {\"colorbar\": {\"outlinewidth\": 0, \"ticks\": \"\"}}, \"type\": \"scattercarpet\"}], \"scattergeo\": [{\"marker\": {\"colorbar\": {\"outlinewidth\": 0, \"ticks\": \"\"}}, \"type\": \"scattergeo\"}], \"scattergl\": [{\"marker\": {\"colorbar\": {\"outlinewidth\": 0, \"ticks\": \"\"}}, \"type\": \"scattergl\"}], \"scattermapbox\": [{\"marker\": {\"colorbar\": {\"outlinewidth\": 0, \"ticks\": \"\"}}, \"type\": \"scattermapbox\"}], \"scatterpolar\": [{\"marker\": {\"colorbar\": {\"outlinewidth\": 0, \"ticks\": \"\"}}, \"type\": \"scatterpolar\"}], \"scatterpolargl\": [{\"marker\": {\"colorbar\": {\"outlinewidth\": 0, \"ticks\": \"\"}}, \"type\": \"scatterpolargl\"}], \"scatterternary\": [{\"marker\": {\"colorbar\": {\"outlinewidth\": 0, \"ticks\": \"\"}}, \"type\": \"scatterternary\"}], \"surface\": [{\"colorbar\": {\"outlinewidth\": 0, \"ticks\": \"\"}, \"colorscale\": [[0.0, \"#0d0887\"], [0.1111111111111111, \"#46039f\"], [0.2222222222222222, \"#7201a8\"], [0.3333333333333333, \"#9c179e\"], [0.4444444444444444, \"#bd3786\"], [0.5555555555555556, \"#d8576b\"], [0.6666666666666666, \"#ed7953\"], [0.7777777777777778, \"#fb9f3a\"], [0.8888888888888888, \"#fdca26\"], [1.0, \"#f0f921\"]], \"type\": \"surface\"}], \"table\": [{\"cells\": {\"fill\": {\"color\": \"#EBF0F8\"}, \"line\": {\"color\": \"white\"}}, \"header\": {\"fill\": {\"color\": \"#C8D4E3\"}, \"line\": {\"color\": \"white\"}}, \"type\": \"table\"}]}, \"layout\": {\"annotationdefaults\": {\"arrowcolor\": \"#2a3f5f\", \"arrowhead\": 0, \"arrowwidth\": 1}, \"colorscale\": {\"diverging\": [[0, \"#8e0152\"], [0.1, \"#c51b7d\"], [0.2, \"#de77ae\"], [0.3, \"#f1b6da\"], [0.4, \"#fde0ef\"], [0.5, \"#f7f7f7\"], [0.6, \"#e6f5d0\"], [0.7, \"#b8e186\"], [0.8, \"#7fbc41\"], [0.9, \"#4d9221\"], [1, \"#276419\"]], \"sequential\": [[0.0, \"#0d0887\"], [0.1111111111111111, \"#46039f\"], [0.2222222222222222, \"#7201a8\"], [0.3333333333333333, \"#9c179e\"], [0.4444444444444444, \"#bd3786\"], [0.5555555555555556, \"#d8576b\"], [0.6666666666666666, \"#ed7953\"], [0.7777777777777778, \"#fb9f3a\"], [0.8888888888888888, \"#fdca26\"], [1.0, \"#f0f921\"]], \"sequentialminus\": [[0.0, \"#0d0887\"], [0.1111111111111111, \"#46039f\"], [0.2222222222222222, \"#7201a8\"], [0.3333333333333333, \"#9c179e\"], [0.4444444444444444, \"#bd3786\"], [0.5555555555555556, \"#d8576b\"], [0.6666666666666666, \"#ed7953\"], [0.7777777777777778, \"#fb9f3a\"], [0.8888888888888888, \"#fdca26\"], [1.0, \"#f0f921\"]]}, \"colorway\": [\"#636efa\", \"#EF553B\", \"#00cc96\", \"#ab63fa\", \"#FFA15A\", \"#19d3f3\", \"#FF6692\", \"#B6E880\", \"#FF97FF\", \"#FECB52\"], \"font\": {\"color\": \"#2a3f5f\"}, \"geo\": {\"bgcolor\": \"white\", \"lakecolor\": \"white\", \"landcolor\": \"#E5ECF6\", \"showlakes\": true, \"showland\": true, \"subunitcolor\": \"white\"}, \"hoverlabel\": {\"align\": \"left\"}, \"hovermode\": \"closest\", \"mapbox\": {\"style\": \"light\"}, \"paper_bgcolor\": \"white\", \"plot_bgcolor\": \"#E5ECF6\", \"polar\": {\"angularaxis\": {\"gridcolor\": \"white\", \"linecolor\": \"white\", \"ticks\": \"\"}, \"bgcolor\": \"#E5ECF6\", \"radialaxis\": {\"gridcolor\": \"white\", \"linecolor\": \"white\", \"ticks\": \"\"}}, \"scene\": {\"xaxis\": {\"backgroundcolor\": \"#E5ECF6\", \"gridcolor\": \"white\", \"gridwidth\": 2, \"linecolor\": \"white\", \"showbackground\": true, \"ticks\": \"\", \"zerolinecolor\": \"white\"}, \"yaxis\": {\"backgroundcolor\": \"#E5ECF6\", \"gridcolor\": \"white\", \"gridwidth\": 2, \"linecolor\": \"white\", \"showbackground\": true, \"ticks\": \"\", \"zerolinecolor\": \"white\"}, \"zaxis\": {\"backgroundcolor\": \"#E5ECF6\", \"gridcolor\": \"white\", \"gridwidth\": 2, \"linecolor\": \"white\", \"showbackground\": true, \"ticks\": \"\", \"zerolinecolor\": \"white\"}}, \"shapedefaults\": {\"line\": {\"color\": \"#2a3f5f\"}}, \"ternary\": {\"aaxis\": {\"gridcolor\": \"white\", \"linecolor\": \"white\", \"ticks\": \"\"}, \"baxis\": {\"gridcolor\": \"white\", \"linecolor\": \"white\", \"ticks\": \"\"}, \"bgcolor\": \"#E5ECF6\", \"caxis\": {\"gridcolor\": \"white\", \"linecolor\": \"white\", \"ticks\": \"\"}}, \"title\": {\"x\": 0.05}, \"xaxis\": {\"automargin\": true, \"gridcolor\": \"white\", \"linecolor\": \"white\", \"ticks\": \"\", \"zerolinecolor\": \"white\", \"zerolinewidth\": 2}, \"yaxis\": {\"automargin\": true, \"gridcolor\": \"white\", \"linecolor\": \"white\", \"ticks\": \"\", \"zerolinecolor\": \"white\", \"zerolinewidth\": 2}}}},\n",
              "                        {\"responsive\": true}\n",
              "                    ).then(function(){\n",
              "                            \n",
              "var gd = document.getElementById('9026363f-978d-475f-9230-1be4ebe140fa');\n",
              "var x = new MutationObserver(function (mutations, observer) {{\n",
              "        var display = window.getComputedStyle(gd).display;\n",
              "        if (!display || display === 'none') {{\n",
              "            console.log([gd, 'removed!']);\n",
              "            Plotly.purge(gd);\n",
              "            observer.disconnect();\n",
              "        }}\n",
              "}});\n",
              "\n",
              "// Listen for the removal of the full notebook cells\n",
              "var notebookContainer = gd.closest('#notebook-container');\n",
              "if (notebookContainer) {{\n",
              "    x.observe(notebookContainer, {childList: true});\n",
              "}}\n",
              "\n",
              "// Listen for the clearing of the current output cell\n",
              "var outputEl = gd.closest('.output');\n",
              "if (outputEl) {{\n",
              "    x.observe(outputEl, {childList: true});\n",
              "}}\n",
              "\n",
              "                        })\n",
              "                };\n",
              "                \n",
              "            </script>\n",
              "        </div>\n",
              "</body>\n",
              "</html>"
            ]
          },
          "metadata": {
            "tags": []
          }
        }
      ]
    },
    {
      "cell_type": "markdown",
      "metadata": {
        "id": "xM-qwnUCbtx4"
      },
      "source": [
        "**Visualizando os Clusteres em três dimensões**"
      ]
    },
    {
      "cell_type": "code",
      "metadata": {
        "colab": {
          "base_uri": "https://localhost:8080/",
          "height": 542
        },
        "id": "7RH8luZsbx00",
        "outputId": "e5283aef-6923-4c15-a67b-4978f18e09f5"
      },
      "source": [
        "fig = go.Figure()\n",
        "fig.add_trace(go.Scatter3d(x = df[\"Color_Intensity\"], \n",
        "                           y = df[\"Alcohol\"], \n",
        "                           z = [\"Proline\"],\n",
        "                           mode=\"markers\",\n",
        "                           marker= dict(color = agrupador.labels_.astype(np.float)),\n",
        "                           text= labels))\n",
        "fig.show()"
      ],
      "execution_count": null,
      "outputs": [
        {
          "output_type": "display_data",
          "data": {
            "text/html": [
              "<html>\n",
              "<head><meta charset=\"utf-8\" /></head>\n",
              "<body>\n",
              "    <div>\n",
              "            <script src=\"https://cdnjs.cloudflare.com/ajax/libs/mathjax/2.7.5/MathJax.js?config=TeX-AMS-MML_SVG\"></script><script type=\"text/javascript\">if (window.MathJax) {MathJax.Hub.Config({SVG: {font: \"STIX-Web\"}});}</script>\n",
              "                <script type=\"text/javascript\">window.PlotlyConfig = {MathJaxConfig: 'local'};</script>\n",
              "        <script src=\"https://cdn.plot.ly/plotly-latest.min.js\"></script>    \n",
              "            <div id=\"2e19b2bb-21fa-45c3-ae5f-4a66e217bb74\" class=\"plotly-graph-div\" style=\"height:525px; width:100%;\"></div>\n",
              "            <script type=\"text/javascript\">\n",
              "                \n",
              "                    window.PLOTLYENV=window.PLOTLYENV || {};\n",
              "                    \n",
              "                if (document.getElementById(\"2e19b2bb-21fa-45c3-ae5f-4a66e217bb74\")) {\n",
              "                    Plotly.newPlot(\n",
              "                        '2e19b2bb-21fa-45c3-ae5f-4a66e217bb74',\n",
              "                        [{\"marker\": {\"color\": [0.0, 0.0, 0.0, 0.0, 1.0, 0.0, 0.0, 0.0, 0.0, 0.0, 0.0, 0.0, 0.0, 0.0, 0.0, 0.0, 0.0, 0.0, 0.0, 1.0, 1.0, 1.0, 0.0, 0.0, 1.0, 1.0, 0.0, 0.0, 1.0, 0.0, 0.0, 0.0, 0.0, 0.0, 0.0, 1.0, 1.0, 0.0, 0.0, 1.0, 1.0, 0.0, 0.0, 1.0, 1.0, 0.0, 0.0, 0.0, 0.0, 0.0, 0.0, 0.0, 0.0, 0.0, 0.0, 0.0, 0.0, 0.0, 0.0, 2.0, 1.0, 2.0, 1.0, 2.0, 2.0, 1.0, 2.0, 2.0, 1.0, 1.0, 1.0, 2.0, 2.0, 0.0, 1.0, 2.0, 2.0, 2.0, 1.0, 2.0, 2.0, 1.0, 1.0, 2.0, 2.0, 2.0, 2.0, 2.0, 1.0, 1.0, 2.0, 2.0, 2.0, 2.0, 2.0, 1.0, 1.0, 2.0, 1.0, 2.0, 1.0, 2.0, 2.0, 2.0, 1.0, 2.0, 2.0, 2.0, 2.0, 1.0, 2.0, 2.0, 1.0, 2.0, 2.0, 2.0, 2.0, 2.0, 2.0, 2.0, 1.0, 2.0, 2.0, 2.0, 2.0, 2.0, 2.0, 2.0, 2.0, 2.0, 1.0, 2.0, 2.0, 1.0, 1.0, 1.0, 1.0, 2.0, 2.0, 2.0, 1.0, 1.0, 2.0, 2.0, 1.0, 1.0, 2.0, 1.0, 1.0, 2.0, 2.0, 2.0, 2.0, 1.0, 1.0, 1.0, 2.0, 1.0, 1.0, 1.0, 2.0, 1.0, 2.0, 1.0, 1.0, 2.0, 1.0, 1.0, 1.0, 1.0, 2.0, 2.0, 1.0, 1.0, 1.0, 1.0, 1.0, 2.0]}, \"mode\": \"markers\", \"text\": [0.0, 0.0, 0.0, 0.0, 1.0, 0.0, 0.0, 0.0, 0.0, 0.0, 0.0, 0.0, 0.0, 0.0, 0.0, 0.0, 0.0, 0.0, 0.0, 1.0, 1.0, 1.0, 0.0, 0.0, 1.0, 1.0, 0.0, 0.0, 1.0, 0.0, 0.0, 0.0, 0.0, 0.0, 0.0, 1.0, 1.0, 0.0, 0.0, 1.0, 1.0, 0.0, 0.0, 1.0, 1.0, 0.0, 0.0, 0.0, 0.0, 0.0, 0.0, 0.0, 0.0, 0.0, 0.0, 0.0, 0.0, 0.0, 0.0, 2.0, 1.0, 2.0, 1.0, 2.0, 2.0, 1.0, 2.0, 2.0, 1.0, 1.0, 1.0, 2.0, 2.0, 0.0, 1.0, 2.0, 2.0, 2.0, 1.0, 2.0, 2.0, 1.0, 1.0, 2.0, 2.0, 2.0, 2.0, 2.0, 1.0, 1.0, 2.0, 2.0, 2.0, 2.0, 2.0, 1.0, 1.0, 2.0, 1.0, 2.0, 1.0, 2.0, 2.0, 2.0, 1.0, 2.0, 2.0, 2.0, 2.0, 1.0, 2.0, 2.0, 1.0, 2.0, 2.0, 2.0, 2.0, 2.0, 2.0, 2.0, 1.0, 2.0, 2.0, 2.0, 2.0, 2.0, 2.0, 2.0, 2.0, 2.0, 1.0, 2.0, 2.0, 1.0, 1.0, 1.0, 1.0, 2.0, 2.0, 2.0, 1.0, 1.0, 2.0, 2.0, 1.0, 1.0, 2.0, 1.0, 1.0, 2.0, 2.0, 2.0, 2.0, 1.0, 1.0, 1.0, 2.0, 1.0, 1.0, 1.0, 2.0, 1.0, 2.0, 1.0, 1.0, 2.0, 1.0, 1.0, 1.0, 1.0, 2.0, 2.0, 1.0, 1.0, 1.0, 1.0, 1.0, 2.0], \"type\": \"scatter3d\", \"x\": [5.64, 4.38, 5.68, 7.8, 4.32, 6.75, 5.25, 5.05, 5.2, 7.22, 5.75, 5.0, 5.6, 5.4, 7.5, 7.3, 6.2, 6.6, 8.7, 5.1, 5.65, 4.5, 3.8, 3.93, 3.52, 3.58, 4.8, 3.95, 4.5, 4.7, 5.7, 6.9, 3.84, 5.4, 4.2, 5.1, 4.6, 4.25, 3.7, 5.1, 6.13, 4.28, 5.43, 4.36, 5.04, 5.24, 4.9, 6.1, 6.2, 8.9, 7.2, 5.6, 7.05, 6.3, 5.85, 6.25, 6.38, 6.0, 6.8, 1.95, 3.27, 5.75, 3.8, 4.45, 2.95, 4.6, 5.3, 4.68, 3.17, 2.85, 3.05, 3.38, 3.74, 3.35, 3.21, 3.8, 4.6, 2.65, 3.4, 2.57, 2.5, 3.9, 2.2, 4.8, 3.05, 2.62, 2.45, 2.6, 2.8, 1.74, 2.4, 3.6, 3.05, 2.15, 3.25, 2.6, 2.5, 2.9, 4.5, 2.3, 3.3, 2.45, 2.8, 2.06, 2.94, 2.7, 3.4, 3.3, 2.7, 2.65, 2.9, 2.0, 3.8, 3.08, 2.9, 1.9, 1.95, 2.06, 3.4, 1.28, 3.25, 6.0, 2.08, 2.6, 2.8, 2.76, 3.94, 3.0, 2.12, 2.6, 4.1, 5.4, 5.7, 5.0, 5.45, 7.1, 3.85, 5.0, 5.7, 4.92, 4.6, 5.6, 4.35, 4.4, 8.21, 4.0, 4.9, 7.65, 8.42, 9.4, 8.6, 10.8, 7.1, 10.52, 7.6, 7.9, 9.01, 7.5, 13.0, 11.75, 7.65, 5.88, 5.58, 5.28, 9.58, 6.62, 10.68, 10.26, 8.66, 8.5, 5.5, 9.899999000000001, 9.7, 7.7, 7.3, 10.2, 9.3, 9.2], \"y\": [14.23, 13.2, 13.16, 14.37, 13.24, 14.2, 14.39, 14.06, 14.83, 13.86, 14.1, 14.12, 13.75, 14.75, 14.38, 13.63, 14.3, 13.83, 14.19, 13.64, 14.06, 12.93, 13.71, 12.85, 13.5, 13.05, 13.39, 13.3, 13.87, 14.02, 13.73, 13.58, 13.68, 13.76, 13.51, 13.48, 13.28, 13.05, 13.07, 14.22, 13.56, 13.41, 13.88, 13.24, 13.05, 14.21, 14.38, 13.9, 14.1, 13.94, 13.05, 13.83, 13.82, 13.77, 13.74, 13.56, 14.22, 13.29, 13.72, 12.37, 12.33, 12.64, 13.67, 12.37, 12.17, 12.37, 13.11, 12.37, 13.34, 12.21, 12.29, 13.86, 13.49, 12.99, 11.96, 11.66, 13.03, 11.84, 12.33, 12.7, 12.0, 12.72, 12.08, 13.05, 11.84, 12.67, 12.16, 11.65, 11.64, 12.08, 12.08, 12.0, 12.69, 12.29, 11.62, 12.47, 11.81, 12.29, 12.37, 12.29, 12.08, 12.6, 12.34, 11.82, 12.51, 12.42, 12.25, 12.72, 12.22, 11.61, 11.46, 12.52, 11.76, 11.41, 12.08, 11.03, 11.82, 12.42, 12.77, 12.0, 11.45, 11.56, 12.42, 13.05, 11.87, 12.07, 12.43, 11.79, 12.37, 12.04, 12.86, 12.88, 12.81, 12.7, 12.51, 12.6, 12.25, 12.53, 13.49, 12.84, 12.93, 13.36, 13.52, 13.62, 12.25, 13.16, 13.88, 12.87, 13.32, 13.08, 13.5, 12.79, 13.11, 13.23, 12.58, 13.17, 13.84, 12.45, 14.34, 13.48, 12.36, 13.69, 12.85, 12.96, 13.78, 13.73, 13.45, 12.82, 13.58, 13.4, 12.2, 12.77, 14.16, 13.71, 13.4, 13.27, 13.17, 14.13], \"z\": [\"Proline\"]}],\n",
              "                        {\"template\": {\"data\": {\"bar\": [{\"error_x\": {\"color\": \"#2a3f5f\"}, \"error_y\": {\"color\": \"#2a3f5f\"}, \"marker\": {\"line\": {\"color\": \"#E5ECF6\", \"width\": 0.5}}, \"type\": \"bar\"}], \"barpolar\": [{\"marker\": {\"line\": {\"color\": \"#E5ECF6\", \"width\": 0.5}}, \"type\": \"barpolar\"}], \"carpet\": [{\"aaxis\": {\"endlinecolor\": \"#2a3f5f\", \"gridcolor\": \"white\", \"linecolor\": \"white\", \"minorgridcolor\": \"white\", \"startlinecolor\": \"#2a3f5f\"}, \"baxis\": {\"endlinecolor\": \"#2a3f5f\", \"gridcolor\": \"white\", \"linecolor\": \"white\", \"minorgridcolor\": \"white\", \"startlinecolor\": \"#2a3f5f\"}, \"type\": \"carpet\"}], \"choropleth\": [{\"colorbar\": {\"outlinewidth\": 0, \"ticks\": \"\"}, \"type\": \"choropleth\"}], \"contour\": [{\"colorbar\": {\"outlinewidth\": 0, \"ticks\": \"\"}, \"colorscale\": [[0.0, \"#0d0887\"], [0.1111111111111111, \"#46039f\"], [0.2222222222222222, \"#7201a8\"], [0.3333333333333333, \"#9c179e\"], [0.4444444444444444, \"#bd3786\"], [0.5555555555555556, \"#d8576b\"], [0.6666666666666666, \"#ed7953\"], [0.7777777777777778, \"#fb9f3a\"], [0.8888888888888888, \"#fdca26\"], [1.0, \"#f0f921\"]], \"type\": \"contour\"}], \"contourcarpet\": [{\"colorbar\": {\"outlinewidth\": 0, \"ticks\": \"\"}, \"type\": \"contourcarpet\"}], \"heatmap\": [{\"colorbar\": {\"outlinewidth\": 0, \"ticks\": \"\"}, \"colorscale\": [[0.0, \"#0d0887\"], [0.1111111111111111, \"#46039f\"], [0.2222222222222222, \"#7201a8\"], [0.3333333333333333, \"#9c179e\"], [0.4444444444444444, \"#bd3786\"], [0.5555555555555556, \"#d8576b\"], [0.6666666666666666, \"#ed7953\"], [0.7777777777777778, \"#fb9f3a\"], [0.8888888888888888, \"#fdca26\"], [1.0, \"#f0f921\"]], \"type\": \"heatmap\"}], \"heatmapgl\": [{\"colorbar\": {\"outlinewidth\": 0, \"ticks\": \"\"}, \"colorscale\": [[0.0, \"#0d0887\"], [0.1111111111111111, \"#46039f\"], [0.2222222222222222, \"#7201a8\"], [0.3333333333333333, \"#9c179e\"], [0.4444444444444444, \"#bd3786\"], [0.5555555555555556, \"#d8576b\"], [0.6666666666666666, \"#ed7953\"], [0.7777777777777778, \"#fb9f3a\"], [0.8888888888888888, \"#fdca26\"], [1.0, \"#f0f921\"]], \"type\": \"heatmapgl\"}], \"histogram\": [{\"marker\": {\"colorbar\": {\"outlinewidth\": 0, \"ticks\": \"\"}}, \"type\": \"histogram\"}], \"histogram2d\": [{\"colorbar\": {\"outlinewidth\": 0, \"ticks\": \"\"}, \"colorscale\": [[0.0, \"#0d0887\"], [0.1111111111111111, \"#46039f\"], [0.2222222222222222, \"#7201a8\"], [0.3333333333333333, \"#9c179e\"], [0.4444444444444444, \"#bd3786\"], [0.5555555555555556, \"#d8576b\"], [0.6666666666666666, \"#ed7953\"], [0.7777777777777778, \"#fb9f3a\"], [0.8888888888888888, \"#fdca26\"], [1.0, \"#f0f921\"]], \"type\": \"histogram2d\"}], \"histogram2dcontour\": [{\"colorbar\": {\"outlinewidth\": 0, \"ticks\": \"\"}, \"colorscale\": [[0.0, \"#0d0887\"], [0.1111111111111111, \"#46039f\"], [0.2222222222222222, \"#7201a8\"], [0.3333333333333333, \"#9c179e\"], [0.4444444444444444, \"#bd3786\"], [0.5555555555555556, \"#d8576b\"], [0.6666666666666666, \"#ed7953\"], [0.7777777777777778, \"#fb9f3a\"], [0.8888888888888888, \"#fdca26\"], [1.0, \"#f0f921\"]], \"type\": \"histogram2dcontour\"}], \"mesh3d\": [{\"colorbar\": {\"outlinewidth\": 0, \"ticks\": \"\"}, \"type\": \"mesh3d\"}], \"parcoords\": [{\"line\": {\"colorbar\": {\"outlinewidth\": 0, \"ticks\": \"\"}}, \"type\": \"parcoords\"}], \"scatter\": [{\"marker\": {\"colorbar\": {\"outlinewidth\": 0, \"ticks\": \"\"}}, \"type\": \"scatter\"}], \"scatter3d\": [{\"line\": {\"colorbar\": {\"outlinewidth\": 0, \"ticks\": \"\"}}, \"marker\": {\"colorbar\": {\"outlinewidth\": 0, \"ticks\": \"\"}}, \"type\": \"scatter3d\"}], \"scattercarpet\": [{\"marker\": {\"colorbar\": {\"outlinewidth\": 0, \"ticks\": \"\"}}, \"type\": \"scattercarpet\"}], \"scattergeo\": [{\"marker\": {\"colorbar\": {\"outlinewidth\": 0, \"ticks\": \"\"}}, \"type\": \"scattergeo\"}], \"scattergl\": [{\"marker\": {\"colorbar\": {\"outlinewidth\": 0, \"ticks\": \"\"}}, \"type\": \"scattergl\"}], \"scattermapbox\": [{\"marker\": {\"colorbar\": {\"outlinewidth\": 0, \"ticks\": \"\"}}, \"type\": \"scattermapbox\"}], \"scatterpolar\": [{\"marker\": {\"colorbar\": {\"outlinewidth\": 0, \"ticks\": \"\"}}, \"type\": \"scatterpolar\"}], \"scatterpolargl\": [{\"marker\": {\"colorbar\": {\"outlinewidth\": 0, \"ticks\": \"\"}}, \"type\": \"scatterpolargl\"}], \"scatterternary\": [{\"marker\": {\"colorbar\": {\"outlinewidth\": 0, \"ticks\": \"\"}}, \"type\": \"scatterternary\"}], \"surface\": [{\"colorbar\": {\"outlinewidth\": 0, \"ticks\": \"\"}, \"colorscale\": [[0.0, \"#0d0887\"], [0.1111111111111111, \"#46039f\"], [0.2222222222222222, \"#7201a8\"], [0.3333333333333333, \"#9c179e\"], [0.4444444444444444, \"#bd3786\"], [0.5555555555555556, \"#d8576b\"], [0.6666666666666666, \"#ed7953\"], [0.7777777777777778, \"#fb9f3a\"], [0.8888888888888888, \"#fdca26\"], [1.0, \"#f0f921\"]], \"type\": \"surface\"}], \"table\": [{\"cells\": {\"fill\": {\"color\": \"#EBF0F8\"}, \"line\": {\"color\": \"white\"}}, \"header\": {\"fill\": {\"color\": \"#C8D4E3\"}, \"line\": {\"color\": \"white\"}}, \"type\": \"table\"}]}, \"layout\": {\"annotationdefaults\": {\"arrowcolor\": \"#2a3f5f\", \"arrowhead\": 0, \"arrowwidth\": 1}, \"colorscale\": {\"diverging\": [[0, \"#8e0152\"], [0.1, \"#c51b7d\"], [0.2, \"#de77ae\"], [0.3, \"#f1b6da\"], [0.4, \"#fde0ef\"], [0.5, \"#f7f7f7\"], [0.6, \"#e6f5d0\"], [0.7, \"#b8e186\"], [0.8, \"#7fbc41\"], [0.9, \"#4d9221\"], [1, \"#276419\"]], \"sequential\": [[0.0, \"#0d0887\"], [0.1111111111111111, \"#46039f\"], [0.2222222222222222, \"#7201a8\"], [0.3333333333333333, \"#9c179e\"], [0.4444444444444444, \"#bd3786\"], [0.5555555555555556, \"#d8576b\"], [0.6666666666666666, \"#ed7953\"], [0.7777777777777778, \"#fb9f3a\"], [0.8888888888888888, \"#fdca26\"], [1.0, \"#f0f921\"]], \"sequentialminus\": [[0.0, \"#0d0887\"], [0.1111111111111111, \"#46039f\"], [0.2222222222222222, \"#7201a8\"], [0.3333333333333333, \"#9c179e\"], [0.4444444444444444, \"#bd3786\"], [0.5555555555555556, \"#d8576b\"], [0.6666666666666666, \"#ed7953\"], [0.7777777777777778, \"#fb9f3a\"], [0.8888888888888888, \"#fdca26\"], [1.0, \"#f0f921\"]]}, \"colorway\": [\"#636efa\", \"#EF553B\", \"#00cc96\", \"#ab63fa\", \"#FFA15A\", \"#19d3f3\", \"#FF6692\", \"#B6E880\", \"#FF97FF\", \"#FECB52\"], \"font\": {\"color\": \"#2a3f5f\"}, \"geo\": {\"bgcolor\": \"white\", \"lakecolor\": \"white\", \"landcolor\": \"#E5ECF6\", \"showlakes\": true, \"showland\": true, \"subunitcolor\": \"white\"}, \"hoverlabel\": {\"align\": \"left\"}, \"hovermode\": \"closest\", \"mapbox\": {\"style\": \"light\"}, \"paper_bgcolor\": \"white\", \"plot_bgcolor\": \"#E5ECF6\", \"polar\": {\"angularaxis\": {\"gridcolor\": \"white\", \"linecolor\": \"white\", \"ticks\": \"\"}, \"bgcolor\": \"#E5ECF6\", \"radialaxis\": {\"gridcolor\": \"white\", \"linecolor\": \"white\", \"ticks\": \"\"}}, \"scene\": {\"xaxis\": {\"backgroundcolor\": \"#E5ECF6\", \"gridcolor\": \"white\", \"gridwidth\": 2, \"linecolor\": \"white\", \"showbackground\": true, \"ticks\": \"\", \"zerolinecolor\": \"white\"}, \"yaxis\": {\"backgroundcolor\": \"#E5ECF6\", \"gridcolor\": \"white\", \"gridwidth\": 2, \"linecolor\": \"white\", \"showbackground\": true, \"ticks\": \"\", \"zerolinecolor\": \"white\"}, \"zaxis\": {\"backgroundcolor\": \"#E5ECF6\", \"gridcolor\": \"white\", \"gridwidth\": 2, \"linecolor\": \"white\", \"showbackground\": true, \"ticks\": \"\", \"zerolinecolor\": \"white\"}}, \"shapedefaults\": {\"line\": {\"color\": \"#2a3f5f\"}}, \"ternary\": {\"aaxis\": {\"gridcolor\": \"white\", \"linecolor\": \"white\", \"ticks\": \"\"}, \"baxis\": {\"gridcolor\": \"white\", \"linecolor\": \"white\", \"ticks\": \"\"}, \"bgcolor\": \"#E5ECF6\", \"caxis\": {\"gridcolor\": \"white\", \"linecolor\": \"white\", \"ticks\": \"\"}}, \"title\": {\"x\": 0.05}, \"xaxis\": {\"automargin\": true, \"gridcolor\": \"white\", \"linecolor\": \"white\", \"ticks\": \"\", \"zerolinecolor\": \"white\", \"zerolinewidth\": 2}, \"yaxis\": {\"automargin\": true, \"gridcolor\": \"white\", \"linecolor\": \"white\", \"ticks\": \"\", \"zerolinecolor\": \"white\", \"zerolinewidth\": 2}}}},\n",
              "                        {\"responsive\": true}\n",
              "                    ).then(function(){\n",
              "                            \n",
              "var gd = document.getElementById('2e19b2bb-21fa-45c3-ae5f-4a66e217bb74');\n",
              "var x = new MutationObserver(function (mutations, observer) {{\n",
              "        var display = window.getComputedStyle(gd).display;\n",
              "        if (!display || display === 'none') {{\n",
              "            console.log([gd, 'removed!']);\n",
              "            Plotly.purge(gd);\n",
              "            observer.disconnect();\n",
              "        }}\n",
              "}});\n",
              "\n",
              "// Listen for the removal of the full notebook cells\n",
              "var notebookContainer = gd.closest('#notebook-container');\n",
              "if (notebookContainer) {{\n",
              "    x.observe(notebookContainer, {childList: true});\n",
              "}}\n",
              "\n",
              "// Listen for the clearing of the current output cell\n",
              "var outputEl = gd.closest('.output');\n",
              "if (outputEl) {{\n",
              "    x.observe(outputEl, {childList: true});\n",
              "}}\n",
              "\n",
              "                        })\n",
              "                };\n",
              "                \n",
              "            </script>\n",
              "        </div>\n",
              "</body>\n",
              "</html>"
            ]
          },
          "metadata": {
            "tags": []
          }
        }
      ]
    },
    {
      "cell_type": "markdown",
      "metadata": {
        "id": "luGYzHNVdOO0"
      },
      "source": [
        "# **03. DBSCAN**"
      ]
    },
    {
      "cell_type": "markdown",
      "metadata": {
        "id": "Ng84NwJUfGzE"
      },
      "source": [
        "**Exemplo Introdução ao DBSCAN**"
      ]
    },
    {
      "cell_type": "markdown",
      "metadata": {
        "id": "NW0FTw8DfTIT"
      },
      "source": [
        "https://scikit-learn.org/stable/modules/generated/sklearn.cluster.DBSCAN.html"
      ]
    },
    {
      "cell_type": "code",
      "metadata": {
        "id": "ozcljFjXcmY3"
      },
      "source": [
        "from sklearn.cluster import DBSCAN"
      ],
      "execution_count": null,
      "outputs": []
    },
    {
      "cell_type": "code",
      "metadata": {
        "colab": {
          "base_uri": "https://localhost:8080/"
        },
        "id": "oBv7-be9gK_1",
        "outputId": "1d7756a1-2865-4b72-d53b-f31bd57e0f2e"
      },
      "source": [
        "agrupador = DBSCAN(eps = 3.31, min_samples=15, metric=\"manhattan\")\n",
        "agrupador.fit(df)"
      ],
      "execution_count": null,
      "outputs": [
        {
          "output_type": "execute_result",
          "data": {
            "text/plain": [
              "DBSCAN(algorithm='auto', eps=3.31, leaf_size=30, metric='manhattan',\n",
              "       metric_params=None, min_samples=15, n_jobs=None, p=None)"
            ]
          },
          "metadata": {
            "tags": []
          },
          "execution_count": 81
        }
      ]
    },
    {
      "cell_type": "code",
      "metadata": {
        "colab": {
          "base_uri": "https://localhost:8080/"
        },
        "id": "zSywMtQPkjaT",
        "outputId": "84b665f6-4be9-408f-e893-f5c3ffb23f59"
      },
      "source": [
        "agrupador.labels_"
      ],
      "execution_count": null,
      "outputs": [
        {
          "output_type": "execute_result",
          "data": {
            "text/plain": [
              "array([-1, -1, -1, -1, -1, -1, -1, -1, -1, -1, -1, -1, -1, -1, -1, -1, -1,\n",
              "       -1, -1, -1, -1, -1, -1, -1, -1, -1, -1, -1, -1, -1, -1, -1, -1, -1,\n",
              "       -1, -1, -1, -1, -1, -1, -1, -1, -1, -1, -1, -1, -1, -1, -1, -1, -1,\n",
              "       -1, -1, -1, -1, -1, -1, -1, -1, -1, -1, -1, -1, -1, -1, -1, -1, -1,\n",
              "       -1, -1, -1, -1, -1, -1, -1, -1, -1, -1, -1, -1, -1, -1, -1, -1, -1,\n",
              "       -1, -1, -1, -1, -1, -1, -1, -1, -1, -1, -1, -1, -1, -1, -1, -1, -1,\n",
              "       -1, -1, -1, -1, -1, -1, -1, -1, -1, -1, -1, -1, -1, -1, -1, -1, -1,\n",
              "       -1, -1, -1, -1, -1, -1, -1, -1, -1, -1, -1, -1, -1, -1, -1, -1, -1,\n",
              "       -1, -1, -1, -1, -1, -1, -1, -1, -1, -1, -1, -1, -1, -1, -1, -1, -1,\n",
              "       -1, -1, -1, -1, -1, -1, -1, -1, -1, -1, -1, -1, -1, -1, -1, -1, -1,\n",
              "       -1, -1, -1, -1, -1, -1, -1, -1])"
            ]
          },
          "metadata": {
            "tags": []
          },
          "execution_count": 82
        }
      ]
    },
    {
      "cell_type": "code",
      "metadata": {
        "colab": {
          "base_uri": "https://localhost:8080/"
        },
        "id": "TvCCKofMkqnG",
        "outputId": "43f39dc7-b254-414a-a0df-7420b3ba6c5b"
      },
      "source": [
        "np.unique(agrupador.labels_)"
      ],
      "execution_count": null,
      "outputs": [
        {
          "output_type": "execute_result",
          "data": {
            "text/plain": [
              "array([-1])"
            ]
          },
          "metadata": {
            "tags": []
          },
          "execution_count": 83
        }
      ]
    },
    {
      "cell_type": "markdown",
      "metadata": {
        "id": "HVGJtYHTlDIO"
      },
      "source": [
        "# **04. Mean Shift**"
      ]
    },
    {
      "cell_type": "markdown",
      "metadata": {
        "id": "sdIEIZmwpmJM"
      },
      "source": [
        "**Introdução ao Mean-Shift**"
      ]
    },
    {
      "cell_type": "markdown",
      "metadata": {
        "id": "5IJdAqt2qIEq"
      },
      "source": [
        "https://scikit-learn.org/stable/modules/generated/sklearn.cluster.MeanShift.html"
      ]
    },
    {
      "cell_type": "code",
      "metadata": {
        "id": "TdrspiDMp6my"
      },
      "source": [
        "from sklearn.cluster import MeanShift"
      ],
      "execution_count": null,
      "outputs": []
    },
    {
      "cell_type": "code",
      "metadata": {
        "colab": {
          "base_uri": "https://localhost:8080/"
        },
        "id": "H6f9gjZ_qJb5",
        "outputId": "7bb7f3fe-1aa8-4495-becd-548ade9ec6fa"
      },
      "source": [
        "agrupador = MeanShift()\n",
        "agrupador.fit(df)\n",
        "agrupador.labels_"
      ],
      "execution_count": null,
      "outputs": [
        {
          "output_type": "execute_result",
          "data": {
            "text/plain": [
              "array([2, 2, 2, 2, 0, 2, 2, 2, 2, 2, 2, 2, 2, 2, 2, 2, 2, 2, 2, 1, 1, 1,\n",
              "       2, 1, 1, 1, 2, 2, 1, 2, 2, 2, 1, 2, 2, 1, 1, 2, 1, 1, 1, 2, 2, 0,\n",
              "       1, 2, 2, 1, 2, 2, 2, 2, 2, 2, 2, 2, 1, 2, 2, 0, 0, 0, 0, 0, 0, 0,\n",
              "       0, 0, 1, 0, 1, 0, 0, 1, 1, 0, 0, 0, 1, 0, 0, 0, 0, 0, 0, 0, 0, 0,\n",
              "       0, 0, 0, 0, 0, 0, 0, 1, 0, 0, 0, 0, 0, 0, 0, 0, 0, 0, 0, 0, 0, 0,\n",
              "       0, 0, 0, 0, 0, 0, 0, 0, 0, 0, 0, 0, 0, 0, 0, 0, 0, 0, 0, 0, 0, 0,\n",
              "       0, 0, 0, 0, 0, 0, 0, 0, 0, 1, 0, 0, 1, 1, 0, 0, 0, 0, 0, 0, 0, 0,\n",
              "       0, 0, 0, 1, 0, 0, 0, 0, 0, 0, 0, 0, 0, 0, 1, 0, 0, 0, 0, 0, 1, 1,\n",
              "       1, 0])"
            ]
          },
          "metadata": {
            "tags": []
          },
          "execution_count": 85
        }
      ]
    },
    {
      "cell_type": "code",
      "metadata": {
        "id": "rID21tjTsnsl"
      },
      "source": [
        ""
      ],
      "execution_count": null,
      "outputs": []
    },
    {
      "cell_type": "code",
      "metadata": {
        "id": "M2EaHG1JsQNG"
      },
      "source": [
        ""
      ],
      "execution_count": null,
      "outputs": []
    }
  ]
}